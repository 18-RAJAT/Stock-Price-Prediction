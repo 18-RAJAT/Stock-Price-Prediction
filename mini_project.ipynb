{
  "cells": [
    {
      "cell_type": "markdown",
      "metadata": {
        "id": "view-in-github",
        "colab_type": "text"
      },
      "source": [
        "<a href=\"https://colab.research.google.com/github/18-RAJAT/Stock-Price-Prediction/blob/main/mini_project.ipynb\" target=\"_parent\"><img src=\"https://colab.research.google.com/assets/colab-badge.svg\" alt=\"Open In Colab\"/></a>"
      ]
    },
    {
      "cell_type": "code",
      "execution_count": null,
      "metadata": {
        "id": "q5UBU2ngK6gu"
      },
      "outputs": [],
      "source": [
        "#Rajat joshi\n",
        "import os #intract with os\n",
        "import pandas_datareader as pdr#tingo"
      ]
    },
    {
      "cell_type": "code",
      "execution_count": null,
      "metadata": {
        "colab": {
          "base_uri": "https://localhost:8080/",
          "height": 336
        },
        "id": "BY6BOguiMZBn",
        "outputId": "e706c83c-2291-4263-d8b8-3c9e901a0525"
      },
      "outputs": [
        {
          "output_type": "stream",
          "name": "stderr",
          "text": [
            "/usr/local/lib/python3.8/dist-packages/pandas_datareader/tiingo.py:234: FutureWarning: In a future version of pandas all arguments of concat except for the argument 'objs' will be keyword-only\n",
            "  return pd.concat(dfs, self._concat_axis)\n"
          ]
        },
        {
          "output_type": "execute_result",
          "data": {
            "text/plain": [
              "                                   close    high     low    open    volume  \\\n",
              "symbol date                                                                  \n",
              "AAPL   2018-01-29 00:00:00+00:00  167.96  170.16  167.07  170.16  48434424   \n",
              "       2018-01-30 00:00:00+00:00  166.97  167.37  164.70  165.53  45137026   \n",
              "       2018-01-31 00:00:00+00:00  167.43  168.44  166.50  166.87  30984099   \n",
              "       2018-02-01 00:00:00+00:00  167.78  168.62  166.76  167.17  38099665   \n",
              "       2018-02-02 00:00:00+00:00  160.50  166.80  160.10  166.00  85436075   \n",
              "\n",
              "                                   adjClose    adjHigh     adjLow    adjOpen  \\\n",
              "symbol date                                                                    \n",
              "AAPL   2018-01-29 00:00:00+00:00  39.876026  40.398336  39.664727  40.398336   \n",
              "       2018-01-30 00:00:00+00:00  39.640986  39.735952  39.102057  39.299110   \n",
              "       2018-01-31 00:00:00+00:00  39.750196  39.989984  39.529402  39.617245   \n",
              "       2018-02-01 00:00:00+00:00  39.833291  40.032719  39.591129  39.688469   \n",
              "       2018-02-02 00:00:00+00:00  38.104919  39.600626  38.009953  39.410695   \n",
              "\n",
              "                                  adjVolume  divCash  splitFactor  \n",
              "symbol date                                                        \n",
              "AAPL   2018-01-29 00:00:00+00:00  193737696      0.0          1.0  \n",
              "       2018-01-30 00:00:00+00:00  180548104      0.0          1.0  \n",
              "       2018-01-31 00:00:00+00:00  123936396      0.0          1.0  \n",
              "       2018-02-01 00:00:00+00:00  152398660      0.0          1.0  \n",
              "       2018-02-02 00:00:00+00:00  341744300      0.0          1.0  "
            ],
            "text/html": [
              "\n",
              "  <div id=\"df-92223990-93c7-49f4-8570-95b853ea6195\">\n",
              "    <div class=\"colab-df-container\">\n",
              "      <div>\n",
              "<style scoped>\n",
              "    .dataframe tbody tr th:only-of-type {\n",
              "        vertical-align: middle;\n",
              "    }\n",
              "\n",
              "    .dataframe tbody tr th {\n",
              "        vertical-align: top;\n",
              "    }\n",
              "\n",
              "    .dataframe thead th {\n",
              "        text-align: right;\n",
              "    }\n",
              "</style>\n",
              "<table border=\"1\" class=\"dataframe\">\n",
              "  <thead>\n",
              "    <tr style=\"text-align: right;\">\n",
              "      <th></th>\n",
              "      <th></th>\n",
              "      <th>close</th>\n",
              "      <th>high</th>\n",
              "      <th>low</th>\n",
              "      <th>open</th>\n",
              "      <th>volume</th>\n",
              "      <th>adjClose</th>\n",
              "      <th>adjHigh</th>\n",
              "      <th>adjLow</th>\n",
              "      <th>adjOpen</th>\n",
              "      <th>adjVolume</th>\n",
              "      <th>divCash</th>\n",
              "      <th>splitFactor</th>\n",
              "    </tr>\n",
              "    <tr>\n",
              "      <th>symbol</th>\n",
              "      <th>date</th>\n",
              "      <th></th>\n",
              "      <th></th>\n",
              "      <th></th>\n",
              "      <th></th>\n",
              "      <th></th>\n",
              "      <th></th>\n",
              "      <th></th>\n",
              "      <th></th>\n",
              "      <th></th>\n",
              "      <th></th>\n",
              "      <th></th>\n",
              "      <th></th>\n",
              "    </tr>\n",
              "  </thead>\n",
              "  <tbody>\n",
              "    <tr>\n",
              "      <th rowspan=\"5\" valign=\"top\">AAPL</th>\n",
              "      <th>2018-01-29 00:00:00+00:00</th>\n",
              "      <td>167.96</td>\n",
              "      <td>170.16</td>\n",
              "      <td>167.07</td>\n",
              "      <td>170.16</td>\n",
              "      <td>48434424</td>\n",
              "      <td>39.876026</td>\n",
              "      <td>40.398336</td>\n",
              "      <td>39.664727</td>\n",
              "      <td>40.398336</td>\n",
              "      <td>193737696</td>\n",
              "      <td>0.0</td>\n",
              "      <td>1.0</td>\n",
              "    </tr>\n",
              "    <tr>\n",
              "      <th>2018-01-30 00:00:00+00:00</th>\n",
              "      <td>166.97</td>\n",
              "      <td>167.37</td>\n",
              "      <td>164.70</td>\n",
              "      <td>165.53</td>\n",
              "      <td>45137026</td>\n",
              "      <td>39.640986</td>\n",
              "      <td>39.735952</td>\n",
              "      <td>39.102057</td>\n",
              "      <td>39.299110</td>\n",
              "      <td>180548104</td>\n",
              "      <td>0.0</td>\n",
              "      <td>1.0</td>\n",
              "    </tr>\n",
              "    <tr>\n",
              "      <th>2018-01-31 00:00:00+00:00</th>\n",
              "      <td>167.43</td>\n",
              "      <td>168.44</td>\n",
              "      <td>166.50</td>\n",
              "      <td>166.87</td>\n",
              "      <td>30984099</td>\n",
              "      <td>39.750196</td>\n",
              "      <td>39.989984</td>\n",
              "      <td>39.529402</td>\n",
              "      <td>39.617245</td>\n",
              "      <td>123936396</td>\n",
              "      <td>0.0</td>\n",
              "      <td>1.0</td>\n",
              "    </tr>\n",
              "    <tr>\n",
              "      <th>2018-02-01 00:00:00+00:00</th>\n",
              "      <td>167.78</td>\n",
              "      <td>168.62</td>\n",
              "      <td>166.76</td>\n",
              "      <td>167.17</td>\n",
              "      <td>38099665</td>\n",
              "      <td>39.833291</td>\n",
              "      <td>40.032719</td>\n",
              "      <td>39.591129</td>\n",
              "      <td>39.688469</td>\n",
              "      <td>152398660</td>\n",
              "      <td>0.0</td>\n",
              "      <td>1.0</td>\n",
              "    </tr>\n",
              "    <tr>\n",
              "      <th>2018-02-02 00:00:00+00:00</th>\n",
              "      <td>160.50</td>\n",
              "      <td>166.80</td>\n",
              "      <td>160.10</td>\n",
              "      <td>166.00</td>\n",
              "      <td>85436075</td>\n",
              "      <td>38.104919</td>\n",
              "      <td>39.600626</td>\n",
              "      <td>38.009953</td>\n",
              "      <td>39.410695</td>\n",
              "      <td>341744300</td>\n",
              "      <td>0.0</td>\n",
              "      <td>1.0</td>\n",
              "    </tr>\n",
              "  </tbody>\n",
              "</table>\n",
              "</div>\n",
              "      <button class=\"colab-df-convert\" onclick=\"convertToInteractive('df-92223990-93c7-49f4-8570-95b853ea6195')\"\n",
              "              title=\"Convert this dataframe to an interactive table.\"\n",
              "              style=\"display:none;\">\n",
              "        \n",
              "  <svg xmlns=\"http://www.w3.org/2000/svg\" height=\"24px\"viewBox=\"0 0 24 24\"\n",
              "       width=\"24px\">\n",
              "    <path d=\"M0 0h24v24H0V0z\" fill=\"none\"/>\n",
              "    <path d=\"M18.56 5.44l.94 2.06.94-2.06 2.06-.94-2.06-.94-.94-2.06-.94 2.06-2.06.94zm-11 1L8.5 8.5l.94-2.06 2.06-.94-2.06-.94L8.5 2.5l-.94 2.06-2.06.94zm10 10l.94 2.06.94-2.06 2.06-.94-2.06-.94-.94-2.06-.94 2.06-2.06.94z\"/><path d=\"M17.41 7.96l-1.37-1.37c-.4-.4-.92-.59-1.43-.59-.52 0-1.04.2-1.43.59L10.3 9.45l-7.72 7.72c-.78.78-.78 2.05 0 2.83L4 21.41c.39.39.9.59 1.41.59.51 0 1.02-.2 1.41-.59l7.78-7.78 2.81-2.81c.8-.78.8-2.07 0-2.86zM5.41 20L4 18.59l7.72-7.72 1.47 1.35L5.41 20z\"/>\n",
              "  </svg>\n",
              "      </button>\n",
              "      \n",
              "  <style>\n",
              "    .colab-df-container {\n",
              "      display:flex;\n",
              "      flex-wrap:wrap;\n",
              "      gap: 12px;\n",
              "    }\n",
              "\n",
              "    .colab-df-convert {\n",
              "      background-color: #E8F0FE;\n",
              "      border: none;\n",
              "      border-radius: 50%;\n",
              "      cursor: pointer;\n",
              "      display: none;\n",
              "      fill: #1967D2;\n",
              "      height: 32px;\n",
              "      padding: 0 0 0 0;\n",
              "      width: 32px;\n",
              "    }\n",
              "\n",
              "    .colab-df-convert:hover {\n",
              "      background-color: #E2EBFA;\n",
              "      box-shadow: 0px 1px 2px rgba(60, 64, 67, 0.3), 0px 1px 3px 1px rgba(60, 64, 67, 0.15);\n",
              "      fill: #174EA6;\n",
              "    }\n",
              "\n",
              "    [theme=dark] .colab-df-convert {\n",
              "      background-color: #3B4455;\n",
              "      fill: #D2E3FC;\n",
              "    }\n",
              "\n",
              "    [theme=dark] .colab-df-convert:hover {\n",
              "      background-color: #434B5C;\n",
              "      box-shadow: 0px 1px 3px 1px rgba(0, 0, 0, 0.15);\n",
              "      filter: drop-shadow(0px 1px 2px rgba(0, 0, 0, 0.3));\n",
              "      fill: #FFFFFF;\n",
              "    }\n",
              "  </style>\n",
              "\n",
              "      <script>\n",
              "        const buttonEl =\n",
              "          document.querySelector('#df-92223990-93c7-49f4-8570-95b853ea6195 button.colab-df-convert');\n",
              "        buttonEl.style.display =\n",
              "          google.colab.kernel.accessAllowed ? 'block' : 'none';\n",
              "\n",
              "        async function convertToInteractive(key) {\n",
              "          const element = document.querySelector('#df-92223990-93c7-49f4-8570-95b853ea6195');\n",
              "          const dataTable =\n",
              "            await google.colab.kernel.invokeFunction('convertToInteractive',\n",
              "                                                     [key], {});\n",
              "          if (!dataTable) return;\n",
              "\n",
              "          const docLinkHtml = 'Like what you see? Visit the ' +\n",
              "            '<a target=\"_blank\" href=https://colab.research.google.com/notebooks/data_table.ipynb>data table notebook</a>'\n",
              "            + ' to learn more about interactive tables.';\n",
              "          element.innerHTML = '';\n",
              "          dataTable['output_type'] = 'display_data';\n",
              "          await google.colab.output.renderOutput(dataTable, element);\n",
              "          const docLink = document.createElement('div');\n",
              "          docLink.innerHTML = docLinkHtml;\n",
              "          element.appendChild(docLink);\n",
              "        }\n",
              "      </script>\n",
              "    </div>\n",
              "  </div>\n",
              "  "
            ]
          },
          "metadata": {},
          "execution_count": 297
        }
      ],
      "source": [
        "#historical stock data for the ticker symbol \"AAPL\" from the financial market data provider Tiingo\n",
        "df = pdr.get_data_tiingo('AAPL', api_key=(\"c59339267c4df5911e27f1f5606230ed00977a5f\"))#AAPL data\n",
        "df.head()"
      ]
    },
    {
      "cell_type": "code",
      "execution_count": null,
      "metadata": {
        "id": "ljmUJ2VZMjFk"
      },
      "outputs": [],
      "source": [
        "df.to_csv('AAPL.csv')"
      ]
    },
    {
      "cell_type": "code",
      "execution_count": null,
      "metadata": {
        "id": "mp_bC40-MoPF"
      },
      "outputs": [],
      "source": [
        "import pandas as pd"
      ]
    },
    {
      "cell_type": "code",
      "execution_count": null,
      "metadata": {
        "id": "XAvnT9DAMvmR"
      },
      "outputs": [],
      "source": [
        "df=pd.read_csv('AAPL.csv')"
      ]
    },
    {
      "cell_type": "code",
      "execution_count": null,
      "metadata": {
        "colab": {
          "base_uri": "https://localhost:8080/",
          "height": 250
        },
        "id": "1avKjPx8M-QV",
        "outputId": "c00a8903-2f92-4008-d464-1b3bd644d592"
      },
      "outputs": [
        {
          "output_type": "execute_result",
          "data": {
            "text/plain": [
              "  symbol                       date   close    high     low    open    volume  \\\n",
              "0   AAPL  2018-01-29 00:00:00+00:00  167.96  170.16  167.07  170.16  48434424   \n",
              "1   AAPL  2018-01-30 00:00:00+00:00  166.97  167.37  164.70  165.53  45137026   \n",
              "2   AAPL  2018-01-31 00:00:00+00:00  167.43  168.44  166.50  166.87  30984099   \n",
              "3   AAPL  2018-02-01 00:00:00+00:00  167.78  168.62  166.76  167.17  38099665   \n",
              "4   AAPL  2018-02-02 00:00:00+00:00  160.50  166.80  160.10  166.00  85436075   \n",
              "\n",
              "    adjClose    adjHigh     adjLow    adjOpen  adjVolume  divCash  splitFactor  \n",
              "0  39.876026  40.398336  39.664727  40.398336  193737696      0.0          1.0  \n",
              "1  39.640986  39.735952  39.102057  39.299110  180548104      0.0          1.0  \n",
              "2  39.750196  39.989984  39.529402  39.617245  123936396      0.0          1.0  \n",
              "3  39.833291  40.032719  39.591129  39.688469  152398660      0.0          1.0  \n",
              "4  38.104919  39.600626  38.009953  39.410695  341744300      0.0          1.0  "
            ],
            "text/html": [
              "\n",
              "  <div id=\"df-a331dd6b-768a-4108-8354-f34a19705c92\">\n",
              "    <div class=\"colab-df-container\">\n",
              "      <div>\n",
              "<style scoped>\n",
              "    .dataframe tbody tr th:only-of-type {\n",
              "        vertical-align: middle;\n",
              "    }\n",
              "\n",
              "    .dataframe tbody tr th {\n",
              "        vertical-align: top;\n",
              "    }\n",
              "\n",
              "    .dataframe thead th {\n",
              "        text-align: right;\n",
              "    }\n",
              "</style>\n",
              "<table border=\"1\" class=\"dataframe\">\n",
              "  <thead>\n",
              "    <tr style=\"text-align: right;\">\n",
              "      <th></th>\n",
              "      <th>symbol</th>\n",
              "      <th>date</th>\n",
              "      <th>close</th>\n",
              "      <th>high</th>\n",
              "      <th>low</th>\n",
              "      <th>open</th>\n",
              "      <th>volume</th>\n",
              "      <th>adjClose</th>\n",
              "      <th>adjHigh</th>\n",
              "      <th>adjLow</th>\n",
              "      <th>adjOpen</th>\n",
              "      <th>adjVolume</th>\n",
              "      <th>divCash</th>\n",
              "      <th>splitFactor</th>\n",
              "    </tr>\n",
              "  </thead>\n",
              "  <tbody>\n",
              "    <tr>\n",
              "      <th>0</th>\n",
              "      <td>AAPL</td>\n",
              "      <td>2018-01-29 00:00:00+00:00</td>\n",
              "      <td>167.96</td>\n",
              "      <td>170.16</td>\n",
              "      <td>167.07</td>\n",
              "      <td>170.16</td>\n",
              "      <td>48434424</td>\n",
              "      <td>39.876026</td>\n",
              "      <td>40.398336</td>\n",
              "      <td>39.664727</td>\n",
              "      <td>40.398336</td>\n",
              "      <td>193737696</td>\n",
              "      <td>0.0</td>\n",
              "      <td>1.0</td>\n",
              "    </tr>\n",
              "    <tr>\n",
              "      <th>1</th>\n",
              "      <td>AAPL</td>\n",
              "      <td>2018-01-30 00:00:00+00:00</td>\n",
              "      <td>166.97</td>\n",
              "      <td>167.37</td>\n",
              "      <td>164.70</td>\n",
              "      <td>165.53</td>\n",
              "      <td>45137026</td>\n",
              "      <td>39.640986</td>\n",
              "      <td>39.735952</td>\n",
              "      <td>39.102057</td>\n",
              "      <td>39.299110</td>\n",
              "      <td>180548104</td>\n",
              "      <td>0.0</td>\n",
              "      <td>1.0</td>\n",
              "    </tr>\n",
              "    <tr>\n",
              "      <th>2</th>\n",
              "      <td>AAPL</td>\n",
              "      <td>2018-01-31 00:00:00+00:00</td>\n",
              "      <td>167.43</td>\n",
              "      <td>168.44</td>\n",
              "      <td>166.50</td>\n",
              "      <td>166.87</td>\n",
              "      <td>30984099</td>\n",
              "      <td>39.750196</td>\n",
              "      <td>39.989984</td>\n",
              "      <td>39.529402</td>\n",
              "      <td>39.617245</td>\n",
              "      <td>123936396</td>\n",
              "      <td>0.0</td>\n",
              "      <td>1.0</td>\n",
              "    </tr>\n",
              "    <tr>\n",
              "      <th>3</th>\n",
              "      <td>AAPL</td>\n",
              "      <td>2018-02-01 00:00:00+00:00</td>\n",
              "      <td>167.78</td>\n",
              "      <td>168.62</td>\n",
              "      <td>166.76</td>\n",
              "      <td>167.17</td>\n",
              "      <td>38099665</td>\n",
              "      <td>39.833291</td>\n",
              "      <td>40.032719</td>\n",
              "      <td>39.591129</td>\n",
              "      <td>39.688469</td>\n",
              "      <td>152398660</td>\n",
              "      <td>0.0</td>\n",
              "      <td>1.0</td>\n",
              "    </tr>\n",
              "    <tr>\n",
              "      <th>4</th>\n",
              "      <td>AAPL</td>\n",
              "      <td>2018-02-02 00:00:00+00:00</td>\n",
              "      <td>160.50</td>\n",
              "      <td>166.80</td>\n",
              "      <td>160.10</td>\n",
              "      <td>166.00</td>\n",
              "      <td>85436075</td>\n",
              "      <td>38.104919</td>\n",
              "      <td>39.600626</td>\n",
              "      <td>38.009953</td>\n",
              "      <td>39.410695</td>\n",
              "      <td>341744300</td>\n",
              "      <td>0.0</td>\n",
              "      <td>1.0</td>\n",
              "    </tr>\n",
              "  </tbody>\n",
              "</table>\n",
              "</div>\n",
              "      <button class=\"colab-df-convert\" onclick=\"convertToInteractive('df-a331dd6b-768a-4108-8354-f34a19705c92')\"\n",
              "              title=\"Convert this dataframe to an interactive table.\"\n",
              "              style=\"display:none;\">\n",
              "        \n",
              "  <svg xmlns=\"http://www.w3.org/2000/svg\" height=\"24px\"viewBox=\"0 0 24 24\"\n",
              "       width=\"24px\">\n",
              "    <path d=\"M0 0h24v24H0V0z\" fill=\"none\"/>\n",
              "    <path d=\"M18.56 5.44l.94 2.06.94-2.06 2.06-.94-2.06-.94-.94-2.06-.94 2.06-2.06.94zm-11 1L8.5 8.5l.94-2.06 2.06-.94-2.06-.94L8.5 2.5l-.94 2.06-2.06.94zm10 10l.94 2.06.94-2.06 2.06-.94-2.06-.94-.94-2.06-.94 2.06-2.06.94z\"/><path d=\"M17.41 7.96l-1.37-1.37c-.4-.4-.92-.59-1.43-.59-.52 0-1.04.2-1.43.59L10.3 9.45l-7.72 7.72c-.78.78-.78 2.05 0 2.83L4 21.41c.39.39.9.59 1.41.59.51 0 1.02-.2 1.41-.59l7.78-7.78 2.81-2.81c.8-.78.8-2.07 0-2.86zM5.41 20L4 18.59l7.72-7.72 1.47 1.35L5.41 20z\"/>\n",
              "  </svg>\n",
              "      </button>\n",
              "      \n",
              "  <style>\n",
              "    .colab-df-container {\n",
              "      display:flex;\n",
              "      flex-wrap:wrap;\n",
              "      gap: 12px;\n",
              "    }\n",
              "\n",
              "    .colab-df-convert {\n",
              "      background-color: #E8F0FE;\n",
              "      border: none;\n",
              "      border-radius: 50%;\n",
              "      cursor: pointer;\n",
              "      display: none;\n",
              "      fill: #1967D2;\n",
              "      height: 32px;\n",
              "      padding: 0 0 0 0;\n",
              "      width: 32px;\n",
              "    }\n",
              "\n",
              "    .colab-df-convert:hover {\n",
              "      background-color: #E2EBFA;\n",
              "      box-shadow: 0px 1px 2px rgba(60, 64, 67, 0.3), 0px 1px 3px 1px rgba(60, 64, 67, 0.15);\n",
              "      fill: #174EA6;\n",
              "    }\n",
              "\n",
              "    [theme=dark] .colab-df-convert {\n",
              "      background-color: #3B4455;\n",
              "      fill: #D2E3FC;\n",
              "    }\n",
              "\n",
              "    [theme=dark] .colab-df-convert:hover {\n",
              "      background-color: #434B5C;\n",
              "      box-shadow: 0px 1px 3px 1px rgba(0, 0, 0, 0.15);\n",
              "      filter: drop-shadow(0px 1px 2px rgba(0, 0, 0, 0.3));\n",
              "      fill: #FFFFFF;\n",
              "    }\n",
              "  </style>\n",
              "\n",
              "      <script>\n",
              "        const buttonEl =\n",
              "          document.querySelector('#df-a331dd6b-768a-4108-8354-f34a19705c92 button.colab-df-convert');\n",
              "        buttonEl.style.display =\n",
              "          google.colab.kernel.accessAllowed ? 'block' : 'none';\n",
              "\n",
              "        async function convertToInteractive(key) {\n",
              "          const element = document.querySelector('#df-a331dd6b-768a-4108-8354-f34a19705c92');\n",
              "          const dataTable =\n",
              "            await google.colab.kernel.invokeFunction('convertToInteractive',\n",
              "                                                     [key], {});\n",
              "          if (!dataTable) return;\n",
              "\n",
              "          const docLinkHtml = 'Like what you see? Visit the ' +\n",
              "            '<a target=\"_blank\" href=https://colab.research.google.com/notebooks/data_table.ipynb>data table notebook</a>'\n",
              "            + ' to learn more about interactive tables.';\n",
              "          element.innerHTML = '';\n",
              "          dataTable['output_type'] = 'display_data';\n",
              "          await google.colab.output.renderOutput(dataTable, element);\n",
              "          const docLink = document.createElement('div');\n",
              "          docLink.innerHTML = docLinkHtml;\n",
              "          element.appendChild(docLink);\n",
              "        }\n",
              "      </script>\n",
              "    </div>\n",
              "  </div>\n",
              "  "
            ]
          },
          "metadata": {},
          "execution_count": 301
        }
      ],
      "source": [
        "df.head()"
      ]
    },
    {
      "cell_type": "code",
      "execution_count": null,
      "metadata": {
        "id": "FvZWX-ztNB0y"
      },
      "outputs": [],
      "source": [
        "df1=df.reset_index()['close']#close column"
      ]
    },
    {
      "cell_type": "code",
      "execution_count": null,
      "metadata": {
        "colab": {
          "base_uri": "https://localhost:8080/"
        },
        "id": "jsSNVZcDNEQO",
        "outputId": "c20c6662-b33b-4002-fed7-d4db43c1a294"
      },
      "outputs": [
        {
          "output_type": "execute_result",
          "data": {
            "text/plain": [
              "0       167.96\n",
              "1       166.97\n",
              "2       167.43\n",
              "3       167.78\n",
              "4       160.50\n",
              "         ...  \n",
              "1254    141.11\n",
              "1255    142.53\n",
              "1256    141.86\n",
              "1257    143.96\n",
              "1258    145.93\n",
              "Name: close, Length: 1259, dtype: float64"
            ]
          },
          "metadata": {},
          "execution_count": 303
        }
      ],
      "source": [
        "df1"
      ]
    },
    {
      "cell_type": "code",
      "execution_count": null,
      "metadata": {
        "colab": {
          "base_uri": "https://localhost:8080/",
          "height": 282
        },
        "id": "wd7FxedyNISz",
        "outputId": "6cff5ac4-9403-446d-a737-1623bd641331"
      },
      "outputs": [
        {
          "output_type": "execute_result",
          "data": {
            "text/plain": [
              "[<matplotlib.lines.Line2D at 0x7f3c74ccaac0>]"
            ]
          },
          "metadata": {},
          "execution_count": 304
        },
        {
          "output_type": "display_data",
          "data": {
            "text/plain": [
              "<Figure size 432x288 with 1 Axes>"
            ],
            "image/png": "[encoded data removed]"
          },
          "metadata": {
            "needs_background": "light"
          }
        }
      ],
      "source": [
        "import matplotlib.pyplot as plt\n",
        "plt.plot(df1)"
      ]
    },
    {
      "cell_type": "code",
      "execution_count": null,
      "metadata": {
        "id": "rsJjhRXsTTYG"
      },
      "outputs": [],
      "source": [
        "import numpy as np"
      ]
    },
    {
      "cell_type": "code",
      "execution_count": null,
      "metadata": {
        "id": "VANWZf4rTiGq"
      },
      "outputs": [],
      "source": [
        "from sklearn.preprocessing import MinMaxScaler\n",
        "#minmax use to scale the values of feature in a\n",
        "scaler=MinMaxScaler(feature_range=(0,1)) \n",
        "#data set to a given range between[0,1)\n",
        "#2D array shape (-1,1) and fitTrans scaling the data\n",
        "df1=scaler.fit_transform(np.array(df1).reshape(-1,1))"
      ]
    },
    {
      "cell_type": "code",
      "execution_count": null,
      "metadata": {
        "colab": {
          "base_uri": "https://localhost:8080/"
        },
        "id": "R3ZQcohITioM",
        "outputId": "5dfa588c-aaf7-4c3c-c2a5-49fe50c930ed"
      },
      "outputs": [
        {
          "output_type": "stream",
          "name": "stdout",
          "text": [
            "[[0.15308704]\n",
            " [0.15060739]\n",
            " [0.15175955]\n",
            " ...\n",
            " [0.08771446]\n",
            " [0.09297433]\n",
            " [0.09790858]]\n"
          ]
        }
      ],
      "source": [
        "print(df1)"
      ]
    },
    {
      "cell_type": "code",
      "execution_count": null,
      "metadata": {
        "id": "iZIsw1RiTkJu"
      },
      "outputs": [],
      "source": [
        "##splitting dataset into train and test split\n",
        "training_size=int(len(df1)*0.65)#.65 is means that 65% of the data will be uesd for training\n",
        "test_size=len(df1)-training_size#calculates the size of the test set by subtracting \n",
        "#the training size from the total size of the dataframe.\n",
        "train_data,test_data=df1[0:training_size,:],df1[training_size:len(df1),:1]#array slicing\n"
      ]
    },
    {
      "cell_type": "code",
      "execution_count": null,
      "metadata": {
        "colab": {
          "base_uri": "https://localhost:8080/"
        },
        "id": "_hG2A3epTmY3",
        "outputId": "96d6c061-2e81-4287-e5bc-9f3969a5a5b5"
      },
      "outputs": [
        {
          "output_type": "stream",
          "name": "stdout",
          "text": [
            "[[0.06672511]\n",
            " [0.06166562]\n",
            " [0.0643707 ]\n",
            " [0.05262367]\n",
            " [0.05324984]\n",
            " [0.05735755]\n",
            " [0.05853475]\n",
            " [0.05011897]\n",
            " [0.04776456]\n",
            " [0.03989981]\n",
            " [0.04541014]\n",
            " [0.05162179]\n",
            " [0.04866625]\n",
            " [0.04510958]\n",
            " [0.04470883]\n",
            " [0.05127113]\n",
            " [0.0465623 ]\n",
            " [0.05074515]\n",
            " [0.05024421]\n",
            " [0.05011897]\n",
            " [0.0461866 ]\n",
            " [0.04450845]\n",
            " [0.0436819 ]\n",
            " [0.04563557]\n",
            " [0.04182843]\n",
            " [0.04771446]\n",
            " [0.04773951]\n",
            " [0.04984346]\n",
            " [0.05082029]\n",
            " [0.0482655 ]\n",
            " [0.05137132]\n",
            " [0.05921102]\n",
            " [0.05710708]\n",
            " [0.05838447]\n",
            " [0.06249217]\n",
            " [0.05916093]\n",
            " [0.06376957]\n",
            " [0.06797746]\n",
            " [0.06727614]\n",
            " [0.06654978]\n",
            " [0.06579837]\n",
            " [0.06998121]\n",
            " [0.07386349]\n",
            " [0.07544145]\n",
            " [0.07621791]\n",
            " [0.08295554]\n",
            " [0.08811522]\n",
            " [0.09450219]\n",
            " [0.09117095]\n",
            " [0.09585473]\n",
            " [0.09432686]\n",
            " [0.09718222]\n",
            " [0.1059737 ]\n",
            " [0.10429555]\n",
            " [0.09906074]\n",
            " [0.08919224]\n",
            " [0.09845961]\n",
            " [0.09658109]\n",
            " [0.10008766]\n",
            " [0.10449593]\n",
            " [0.10557295]\n",
            " [0.10001252]\n",
            " [0.09552912]\n",
            " [0.09718222]\n",
            " [0.09773325]\n",
            " [0.09688165]\n",
            " [0.10149029]\n",
            " [0.10046337]\n",
            " [0.10073889]\n",
            " [0.09843456]\n",
            " [0.09830933]\n",
            " [0.09708203]\n",
            " [0.09773325]\n",
            " [0.10532248]\n",
            " [0.10584847]\n",
            " [0.11090795]\n",
            " [0.10857858]\n",
            " [0.0989856 ]\n",
            " [0.09983719]\n",
            " [0.10356919]\n",
            " [0.10737633]\n",
            " [0.10715091]\n",
            " [0.10399499]\n",
            " [0.10194114]\n",
            " [0.10459612]\n",
            " [0.11591735]\n",
            " [0.11268629]\n",
            " [0.11438948]\n",
            " [0.11724483]\n",
            " [0.11887289]\n",
            " [0.12485911]\n",
            " [0.12090169]\n",
            " [0.11829681]\n",
            " [0.10552286]\n",
            " [0.10697558]\n",
            " [0.10339386]\n",
            " [0.10567314]\n",
            " [0.10507201]\n",
            " [0.09823419]\n",
            " [0.09041954]\n",
            " [0.09164684]\n",
            " [0.0977082 ]\n",
            " [0.10016281]\n",
            " [0.10038823]\n",
            " [0.09650595]\n",
            " [0.0878397 ]\n",
            " [0.09014402]\n",
            " [0.08681277]\n",
            " [0.08969317]\n",
            " [0.08090169]\n",
            " [0.08583594]\n",
            " [0.08806512]\n",
            " [0.09129618]\n",
            " [0.09031935]\n",
            " [0.09009393]\n",
            " [0.08683782]\n",
            " [0.085335  ]\n",
            " [0.09247339]\n",
            " [0.09517846]\n",
            " [0.09946149]\n",
            " [0.10499687]\n",
            " [0.10624922]\n",
            " [0.10680025]\n",
            " [0.10482154]\n",
            " [0.10469631]\n",
            " [0.1063995 ]\n",
            " [0.10522229]\n",
            " [0.11453976]\n",
            " [0.10760175]\n",
            " [0.10549781]\n",
            " [0.10815279]\n",
            " [0.11183469]\n",
            " [0.1105072 ]\n",
            " [0.1113087 ]\n",
            " [0.10920476]\n",
            " [0.1101315 ]\n",
            " [0.10289292]\n",
            " [0.10276769]\n",
            " [0.10807765]\n",
            " [0.10810269]\n",
            " [0.11060739]\n",
            " [0.11684408]\n",
            " [0.12781465]\n",
            " [0.13452724]\n",
            " [0.13570445]\n",
            " [0.13668128]\n",
            " [0.13800877]\n",
            " [0.12515967]\n",
            " [0.13375078]\n",
            " [0.14642455]\n",
            " [0.14509706]\n",
            " [0.14256731]\n",
            " [0.1377583 ]\n",
            " [0.14647464]\n",
            " [0.16115216]\n",
            " [0.17092048]\n",
            " [0.16961803]\n",
            " [0.181866  ]\n",
            " [0.17257358]\n",
            " [0.16904195]\n",
            " [0.18149029]\n",
            " [0.16385723]\n",
            " [0.16105197]\n",
            " [0.15757044]\n",
            " [0.16568566]\n",
            " [0.17232311]\n",
            " [0.17392611]\n",
            " [0.18407013]\n",
            " [0.18146525]\n",
            " [0.18169067]\n",
            " [0.17873513]\n",
            " [0.17715717]\n",
            " [0.18827802]\n",
            " [0.18249217]\n",
            " [0.17051972]\n",
            " [0.16320601]\n",
            " [0.16363181]\n",
            " [0.1636819 ]\n",
            " [0.17092048]\n",
            " [0.17204759]\n",
            " [0.1636819 ]\n",
            " [0.16588604]\n",
            " [0.15769568]\n",
            " [0.14875391]\n",
            " [0.14444584]\n",
            " [0.13918597]\n",
            " [0.13720726]\n",
            " [0.13259862]\n",
            " [0.1323732 ]\n",
            " [0.13119599]\n",
            " [0.15902317]\n",
            " [0.17016907]\n",
            " [0.16974327]\n",
            " [0.17282405]\n",
            " [0.16546024]\n",
            " [0.16418284]\n",
            " [0.16235441]\n",
            " [0.1702943 ]\n",
            " [0.17392611]\n",
            " [0.16350657]\n",
            " [0.15479023]\n",
            " [0.15539136]\n",
            " [0.16518472]\n",
            " [0.16458359]\n",
            " [0.15539136]\n",
            " [0.15143394]\n",
            " [0.14396994]\n",
            " [0.13332498]\n",
            " [0.14001252]\n",
            " [0.14529743]\n",
            " [0.1459737 ]\n",
            " [0.14116468]\n",
            " [0.14958046]\n",
            " [0.14875391]\n",
            " [0.14108954]\n",
            " [0.13139637]\n",
            " [0.12673763]\n",
            " [0.14053851]\n",
            " [0.12944271]\n",
            " [0.11994991]\n",
            " [0.1096556 ]\n",
            " [0.1208516 ]\n",
            " [0.13212273]\n",
            " [0.13470257]\n",
            " [0.14311835]\n",
            " [0.14662492]\n",
            " [0.15524108]\n",
            " [0.1587226 ]\n",
            " [0.16839073]\n",
            " [0.17001879]\n",
            " [0.17222292]\n",
            " [0.1806387 ]\n",
            " [0.17765811]\n",
            " [0.16974327]\n",
            " [0.16899186]\n",
            " [0.17933626]\n",
            " [0.17087038]\n",
            " [0.16278021]\n",
            " [0.16355667]\n",
            " [0.15842204]\n",
            " [0.14755166]\n",
            " [0.15233563]\n",
            " [0.1591985 ]\n",
            " [0.1463995 ]\n",
            " [0.14584847]\n",
            " [0.15168441]\n",
            " [0.15125861]\n",
            " [0.14922981]\n",
            " [0.13763306]\n",
            " [0.14036318]\n",
            " [0.12513463]\n",
            " [0.12455855]\n",
            " [0.14226675]\n",
            " [0.12726362]\n",
            " [0.12804008]\n",
            " [0.13184721]\n",
            " [0.14822793]\n",
            " [0.12505949]\n",
            " [0.12633688]\n",
            " [0.11326237]\n",
            " [0.11939887]\n",
            " [0.09933626]\n",
            " [0.08946775]\n",
            " [0.10086412]\n",
            " [0.09693175]\n",
            " [0.10619912]\n",
            " [0.08510958]\n",
            " [0.07641828]\n",
            " [0.07701941]\n",
            " [0.09084534]\n",
            " [0.08395742]\n",
            " [0.08435817]\n",
            " [0.09252348]\n",
            " [0.107201  ]\n",
            " [0.10519724]\n",
            " [0.10487163]\n",
            " [0.11113338]\n",
            " [0.096531  ]\n",
            " [0.09843456]\n",
            " [0.10487163]\n",
            " [0.10299311]\n",
            " [0.08966813]\n",
            " [0.07586725]\n",
            " [0.0627176 ]\n",
            " [0.06492173]\n",
            " [0.07160927]\n",
            " [0.05815905]\n",
            " [0.06191609]\n",
            " [0.07271133]\n",
            " [0.07140889]\n",
            " [0.0787226 ]\n",
            " [0.08721353]\n",
            " [0.08721353]\n",
            " [0.07664371]\n",
            " [0.08112711]\n",
            " [0.07484033]\n",
            " [0.0803757 ]\n",
            " [0.08696306]\n",
            " [0.09036944]\n",
            " [0.09896055]\n",
            " [0.10068879]\n",
            " [0.0952536 ]\n",
            " [0.09773325]\n",
            " [0.09680651]\n",
            " [0.10427051]\n",
            " [0.10852849]\n",
            " [0.10076393]\n",
            " [0.11060739]\n",
            " [0.11571697]\n",
            " [0.12150282]\n",
            " [0.1183469 ]\n",
            " [0.11549155]\n",
            " [0.11211021]\n",
            " [0.12510958]\n",
            " [0.12651221]\n",
            " [0.13943644]\n",
            " [0.13693175]\n",
            " [0.1331747 ]\n",
            " [0.14850344]\n",
            " [0.14770194]\n",
            " [0.14654978]\n",
            " [0.14534753]\n",
            " [0.14547276]\n",
            " [0.15629305]\n",
            " [0.15441453]\n",
            " [0.16345648]\n",
            " [0.1661866 ]\n",
            " [0.16578585]\n",
            " [0.16959299]\n",
            " [0.16859111]\n",
            " [0.16200376]\n",
            " [0.15211021]\n",
            " [0.15125861]\n",
            " [0.15201002]\n",
            " [0.15827176]\n",
            " [0.14221666]\n",
            " [0.13660614]\n",
            " [0.13041954]\n",
            " [0.1261866 ]\n",
            " [0.12804008]\n",
            " [0.12265498]\n",
            " [0.11944897]\n",
            " [0.12303068]\n",
            " [0.11927364]\n",
            " [0.1265623 ]\n",
            " [0.14174076]\n",
            " [0.11772073]\n",
            " [0.12140263]\n",
            " [0.11403882]\n",
            " [0.10985598]\n",
            " [0.11932373]\n",
            " [0.1253851 ]\n",
            " [0.11742016]\n",
            " [0.11496556]\n",
            " [0.10917971]\n",
            " [0.11003131]\n",
            " [0.11251096]\n",
            " [0.10770194]\n",
            " [0.08926738]\n",
            " [0.07854728]\n",
            " [0.08919224]\n",
            " [0.09833438]\n",
            " [0.09908579]\n",
            " [0.09665623]\n",
            " [0.08328115]\n",
            " [0.0841077 ]\n",
            " [0.08050094]\n",
            " [0.07889793]\n",
            " [0.09054477]\n",
            " [0.07899812]\n",
            " [0.08909205]\n",
            " [0.09244834]\n",
            " [0.09272386]\n",
            " [0.09154665]\n",
            " [0.10126487]\n",
            " [0.10672511]\n",
            " [0.11396368]\n",
            " [0.10647464]\n",
            " [0.09507827]\n",
            " [0.12247965]\n",
            " [0.11646838]\n",
            " [0.10973075]\n",
            " [0.09565435]\n",
            " [0.08025047]\n",
            " [0.07899812]\n",
            " [0.08035066]\n",
            " [0.08180338]\n",
            " [0.07020664]\n",
            " [0.10026299]\n",
            " [0.10735128]\n",
            " [0.10379461]\n",
            " [0.10820288]\n",
            " [0.10507201]\n",
            " [0.10990607]\n",
            " [0.11133375]\n",
            " [0.10311835]\n",
            " [0.10855354]\n",
            " [0.11078272]\n",
            " [0.10336882]\n",
            " [0.09362555]\n",
            " [0.08598622]\n",
            " [0.10316844]\n",
            " [0.10386976]\n",
            " [0.10261741]\n",
            " [0.09966187]\n",
            " [0.0903444 ]\n",
            " [0.08541014]\n",
            " [0.08969317]\n",
            " [0.08846587]\n",
            " [0.09430182]\n",
            " [0.09675642]\n",
            " [0.0910958 ]\n",
            " [0.07428929]\n",
            " [0.06930495]\n",
            " [0.0639449 ]\n",
            " [0.06376957]\n",
            " [0.07165936]\n",
            " [0.06359424]\n",
            " [0.0626675 ]\n",
            " [0.05808391]\n",
            " [0.04809017]\n",
            " [0.05703193]\n",
            " [0.05783344]\n",
            " [0.04566061]\n",
            " [0.04889167]\n",
            " [0.04553538]\n",
            " [0.05705698]\n",
            " [0.05838447]\n",
            " [0.05983719]\n",
            " [0.06675016]\n",
            " [0.06654978]\n",
            " [0.06993112]\n",
            " [0.07288666]\n",
            " [0.07105823]\n",
            " [0.07120852]\n",
            " [0.07772073]\n",
            " [0.08583594]\n",
            " [0.08939261]\n",
            " [0.08771446]\n",
            " [0.09297433]\n",
            " [0.09790858]]\n"
          ]
        }
      ],
      "source": [
        "print(test_data)"
      ]
    },
    {
      "cell_type": "code",
      "execution_count": null,
      "metadata": {
        "colab": {
          "base_uri": "https://localhost:8080/"
        },
        "id": "a5Ch17bTTp8f",
        "outputId": "8b9f9795-fdb8-41ed-da65-c0fa8d20a375"
      },
      "outputs": [
        {
          "output_type": "execute_result",
          "data": {
            "text/plain": [
              "(441, 1)"
            ]
          },
          "metadata": {},
          "execution_count": 310
        }
      ],
      "source": [
        "training_size,test_size\n",
        "test_data.shape #return the shape of td"
      ]
    },
    {
      "cell_type": "code",
      "execution_count": null,
      "metadata": {
        "id": "vMG4NZy-Ts9t"
      },
      "outputs": [],
      "source": [
        "import numpy\n",
        "# convert an array of values into a dataset matrix\n",
        "def create_dataset(dataset, time_step=1):\n",
        "\tdataX, dataY = [], []# ip,op train,test\n",
        "\tfor i in range(len(dataset)-time_step-1):\n",
        "\t\ta = dataset[i:(i+time_step), 0]   ###i=0, 0,1,2,3-----99   100  reach the data set\n",
        "\t\tdataX.append(a)#here---->>>>inserts a single element into an existing list\n",
        "\t\tdataY.append(dataset[i + time_step, 0])\n",
        "\t\t#dataX and dataY into numpy arrays and return them\n",
        "\treturn numpy.array(dataX), numpy.array(dataY)"
      ]
    },
    {
      "cell_type": "code",
      "execution_count": null,
      "metadata": {
        "id": "s2DNbChJTwPE"
      },
      "outputs": [],
      "source": [
        "# reshape into X=t,t+1,t+2,t+3 and Y=t+4\n",
        "time_step = 100\n",
        "X_train, y_train = create_dataset(train_data, time_step)\n",
        "#train_data, time_step returns\n",
        "#two numpy arrays, dx&dy, which are then assigned to the variables xt&yt.\n",
        "X_test, ytest = create_dataset(test_data, time_step)"
      ]
    },
    {
      "cell_type": "code",
      "execution_count": null,
      "metadata": {
        "colab": {
          "base_uri": "https://localhost:8080/"
        },
        "id": "jDIN0wJyTy_q",
        "outputId": "4f23c86c-bfaa-4500-ef3e-835eb9269428"
      },
      "outputs": [
        {
          "output_type": "stream",
          "name": "stdout",
          "text": [
            "(717, 100)\n",
            "(717,)\n"
          ]
        },
        {
          "output_type": "execute_result",
          "data": {
            "text/plain": [
              "(None, None)"
            ]
          },
          "metadata": {},
          "execution_count": 313
        }
      ],
      "source": [
        "print(X_train.shape), print(y_train.shape)\n"
      ]
    },
    {
      "cell_type": "code",
      "execution_count": null,
      "metadata": {
        "colab": {
          "base_uri": "https://localhost:8080/"
        },
        "id": "d8RtPanUT0aV",
        "outputId": "a7ad0a9d-441c-4c76-9663-6a6cbe393c2c"
      },
      "outputs": [
        {
          "output_type": "stream",
          "name": "stdout",
          "text": [
            "(340, 100)\n",
            "(340,)\n"
          ]
        },
        {
          "output_type": "execute_result",
          "data": {
            "text/plain": [
              "(None, None)"
            ]
          },
          "metadata": {},
          "execution_count": 314
        }
      ],
      "source": [
        "print(X_test.shape), print(ytest.shape)\n"
      ]
    },
    {
      "cell_type": "code",
      "execution_count": null,
      "metadata": {
        "id": "HF3zC_JHT2e6"
      },
      "outputs": [],
      "source": [
        "# reshape input to be [samples, time steps, features] which is required for LSTM 3D\n",
        "#CNN->appropriate format for input into a specific type of machine learning model\n",
        "X_train =X_train.reshape(X_train.shape[0],X_train.shape[1] , 1)\n",
        "X_test = X_test.reshape(X_test.shape[0],X_test.shape[1] , 1)"
      ]
    },
    {
      "cell_type": "code",
      "execution_count": null,
      "metadata": {
        "id": "XFB5_-SxT4se"
      },
      "outputs": [],
      "source": [
        "from tensorflow.keras.models import Sequential\n",
        "from tensorflow.keras.layers import Dense\n",
        "from tensorflow.keras.layers import LSTM"
      ]
    },
    {
      "cell_type": "code",
      "execution_count": null,
      "metadata": {
        "id": "79wi3ooBT7XV"
      },
      "outputs": [],
      "source": [
        "#Algo \n",
        "\n",
        "model=Sequential()\n",
        "#add 50 units of lstm layers and sets the return seq parameter true. layer of seq. of 100 \n",
        "#timestamps elements each with 1 feature\n",
        "model.add(LSTM(50,return_sequences=True,input_shape=(100,1)))\n",
        "model.add(LSTM(50,return_sequences=True))\n",
        "\n",
        "#LSTM layer will be a single vector and it will not be passed as input to any other layer\n",
        "model.add(LSTM(50))\n",
        "model.add(Dense(1))#fully connected layer with 1 unit.->o/p layer of the model\n",
        "\n",
        "#loss->measure the performance during training optimizer\n",
        "#optimizer->used to update the weights of the model based on the loss func. \n",
        "#->recursion weight/bias update <- rev\n",
        "\n",
        "\n",
        "\n",
        "#The loss argument is the metric to be used to evaluate the model's performance,\n",
        "#and the optimizer argument is the optimization algorithm to be used\n",
        "\n",
        "model.compile(loss='mean_squared_error',optimizer='adam',metrics=['mse'])\n",
        "#gradiant descent->stochastic gradient->mini-batch->momentum based."
      ]
    },
    {
      "cell_type": "code",
      "execution_count": null,
      "metadata": {
        "colab": {
          "base_uri": "https://localhost:8080/"
        },
        "id": "6mqEVWZrT_vr",
        "outputId": "98a31b41-72ea-4ab5-e9d3-957a6ce5a766"
      },
      "outputs": [
        {
          "output_type": "stream",
          "name": "stdout",
          "text": [
            "Model: \"sequential_13\"\n",
            "_________________________________________________________________\n",
            " Layer (type)                Output Shape              Param #   \n",
            "=================================================================\n",
            " lstm_39 (LSTM)              (None, 100, 50)           10400     \n",
            "                                                                 \n",
            " lstm_40 (LSTM)              (None, 100, 50)           20200     \n",
            "                                                                 \n",
            " lstm_41 (LSTM)              (None, 50)                20200     \n",
            "                                                                 \n",
            " dense_13 (Dense)            (None, 1)                 51        \n",
            "                                                                 \n",
            "=================================================================\n",
            "Total params: 50,851\n",
            "Trainable params: 50,851\n",
            "Non-trainable params: 0\n",
            "_________________________________________________________________\n"
          ]
        }
      ],
      "source": [
        "model.summary()"
      ]
    },
    {
      "cell_type": "code",
      "execution_count": null,
      "metadata": {
        "colab": {
          "base_uri": "https://localhost:8080/"
        },
        "id": "RibSmkc0UBro",
        "outputId": "4b9351ce-b1a3-4a60-d962-1ac077ddd2fd"
      },
      "outputs": [
        {
          "output_type": "stream",
          "name": "stdout",
          "text": [
            "Epoch 1/100\n",
            "12/12 [==============================] - 7s 245ms/step - loss: 0.0360 - mse: 0.0360 - val_loss: 8.4768e-04 - val_mse: 8.4768e-04\n",
            "Epoch 2/100\n",
            "12/12 [==============================] - 2s 152ms/step - loss: 0.0167 - mse: 0.0167 - val_loss: 0.0046 - val_mse: 0.0046\n",
            "Epoch 3/100\n",
            "12/12 [==============================] - 2s 152ms/step - loss: 0.0112 - mse: 0.0112 - val_loss: 8.8770e-04 - val_mse: 8.8770e-04\n",
            "Epoch 4/100\n",
            "12/12 [==============================] - 2s 151ms/step - loss: 0.0101 - mse: 0.0101 - val_loss: 5.9283e-04 - val_mse: 5.9283e-04\n",
            "Epoch 5/100\n",
            "12/12 [==============================] - 2s 151ms/step - loss: 0.0087 - mse: 0.0087 - val_loss: 5.3618e-04 - val_mse: 5.3618e-04\n",
            "Epoch 6/100\n",
            "12/12 [==============================] - 2s 153ms/step - loss: 0.0082 - mse: 0.0082 - val_loss: 0.0011 - val_mse: 0.0011\n",
            "Epoch 7/100\n",
            "12/12 [==============================] - 2s 149ms/step - loss: 0.0070 - mse: 0.0070 - val_loss: 3.2367e-04 - val_mse: 3.2367e-04\n",
            "Epoch 8/100\n",
            "12/12 [==============================] - 2s 148ms/step - loss: 0.0063 - mse: 0.0063 - val_loss: 0.0011 - val_mse: 0.0011\n",
            "Epoch 9/100\n",
            "12/12 [==============================] - 2s 154ms/step - loss: 0.0061 - mse: 0.0061 - val_loss: 4.4829e-04 - val_mse: 4.4829e-04\n",
            "Epoch 10/100\n",
            "12/12 [==============================] - 2s 154ms/step - loss: 0.0057 - mse: 0.0057 - val_loss: 3.0060e-04 - val_mse: 3.0060e-04\n",
            "Epoch 11/100\n",
            "12/12 [==============================] - 2s 153ms/step - loss: 0.0049 - mse: 0.0049 - val_loss: 2.8086e-04 - val_mse: 2.8086e-04\n",
            "Epoch 12/100\n",
            "12/12 [==============================] - 2s 149ms/step - loss: 0.0058 - mse: 0.0058 - val_loss: 5.7348e-04 - val_mse: 5.7348e-04\n",
            "Epoch 13/100\n",
            "12/12 [==============================] - 2s 152ms/step - loss: 0.0044 - mse: 0.0044 - val_loss: 5.2935e-04 - val_mse: 5.2935e-04\n",
            "Epoch 14/100\n",
            "12/12 [==============================] - 2s 152ms/step - loss: 0.0056 - mse: 0.0056 - val_loss: 8.5222e-04 - val_mse: 8.5222e-04\n",
            "Epoch 15/100\n",
            "12/12 [==============================] - 2s 151ms/step - loss: 0.0045 - mse: 0.0045 - val_loss: 4.5372e-04 - val_mse: 4.5372e-04\n",
            "Epoch 16/100\n",
            "12/12 [==============================] - 2s 150ms/step - loss: 0.0036 - mse: 0.0036 - val_loss: 3.1335e-04 - val_mse: 3.1335e-04\n",
            "Epoch 17/100\n",
            "12/12 [==============================] - 2s 149ms/step - loss: 0.0034 - mse: 0.0034 - val_loss: 3.2526e-04 - val_mse: 3.2526e-04\n",
            "Epoch 18/100\n",
            "12/12 [==============================] - 2s 151ms/step - loss: 0.0034 - mse: 0.0034 - val_loss: 3.0511e-04 - val_mse: 3.0511e-04\n",
            "Epoch 19/100\n",
            "12/12 [==============================] - 2s 152ms/step - loss: 0.0056 - mse: 0.0056 - val_loss: 2.7038e-04 - val_mse: 2.7038e-04\n",
            "Epoch 20/100\n",
            "12/12 [==============================] - 2s 147ms/step - loss: 0.0042 - mse: 0.0042 - val_loss: 2.5587e-04 - val_mse: 2.5587e-04\n",
            "Epoch 21/100\n",
            "12/12 [==============================] - 2s 152ms/step - loss: 0.0035 - mse: 0.0035 - val_loss: 3.0619e-04 - val_mse: 3.0619e-04\n",
            "Epoch 22/100\n",
            "12/12 [==============================] - 2s 148ms/step - loss: 0.0031 - mse: 0.0031 - val_loss: 2.9640e-04 - val_mse: 2.9640e-04\n",
            "Epoch 23/100\n",
            "12/12 [==============================] - 2s 152ms/step - loss: 0.0029 - mse: 0.0029 - val_loss: 2.7432e-04 - val_mse: 2.7432e-04\n",
            "Epoch 24/100\n",
            "12/12 [==============================] - 2s 150ms/step - loss: 0.0030 - mse: 0.0030 - val_loss: 2.6758e-04 - val_mse: 2.6758e-04\n",
            "Epoch 25/100\n",
            "12/12 [==============================] - 2s 150ms/step - loss: 0.0029 - mse: 0.0029 - val_loss: 2.4828e-04 - val_mse: 2.4828e-04\n",
            "Epoch 26/100\n",
            "12/12 [==============================] - 2s 149ms/step - loss: 0.0026 - mse: 0.0026 - val_loss: 2.7112e-04 - val_mse: 2.7112e-04\n",
            "Epoch 27/100\n",
            "12/12 [==============================] - 2s 150ms/step - loss: 0.0022 - mse: 0.0022 - val_loss: 2.6833e-04 - val_mse: 2.6833e-04\n",
            "Epoch 28/100\n",
            "12/12 [==============================] - 2s 151ms/step - loss: 0.0022 - mse: 0.0022 - val_loss: 2.5805e-04 - val_mse: 2.5805e-04\n",
            "Epoch 29/100\n",
            "12/12 [==============================] - 2s 151ms/step - loss: 0.0021 - mse: 0.0021 - val_loss: 2.5858e-04 - val_mse: 2.5858e-04\n",
            "Epoch 30/100\n",
            "12/12 [==============================] - 2s 148ms/step - loss: 0.0022 - mse: 0.0022 - val_loss: 2.4740e-04 - val_mse: 2.4740e-04\n",
            "Epoch 31/100\n",
            "12/12 [==============================] - 2s 149ms/step - loss: 0.0022 - mse: 0.0022 - val_loss: 3.1655e-04 - val_mse: 3.1655e-04\n",
            "Epoch 32/100\n",
            "12/12 [==============================] - 2s 150ms/step - loss: 0.0020 - mse: 0.0020 - val_loss: 2.4416e-04 - val_mse: 2.4416e-04\n",
            "Epoch 33/100\n",
            "12/12 [==============================] - 2s 153ms/step - loss: 0.0022 - mse: 0.0022 - val_loss: 2.5689e-04 - val_mse: 2.5689e-04\n",
            "Epoch 34/100\n",
            "12/12 [==============================] - 2s 150ms/step - loss: 0.0034 - mse: 0.0034 - val_loss: 3.7488e-04 - val_mse: 3.7488e-04\n",
            "Epoch 35/100\n",
            "12/12 [==============================] - 2s 153ms/step - loss: 0.0030 - mse: 0.0030 - val_loss: 2.5455e-04 - val_mse: 2.5455e-04\n",
            "Epoch 36/100\n",
            "12/12 [==============================] - 2s 153ms/step - loss: 0.0021 - mse: 0.0021 - val_loss: 3.1952e-04 - val_mse: 3.1952e-04\n",
            "Epoch 37/100\n",
            "12/12 [==============================] - 2s 149ms/step - loss: 0.0030 - mse: 0.0030 - val_loss: 4.7921e-04 - val_mse: 4.7921e-04\n",
            "Epoch 38/100\n",
            "12/12 [==============================] - 2s 151ms/step - loss: 0.0023 - mse: 0.0023 - val_loss: 2.7322e-04 - val_mse: 2.7322e-04\n",
            "Epoch 39/100\n",
            "12/12 [==============================] - 2s 152ms/step - loss: 0.0026 - mse: 0.0026 - val_loss: 2.4684e-04 - val_mse: 2.4684e-04\n",
            "Epoch 40/100\n",
            "12/12 [==============================] - 2s 151ms/step - loss: 0.0019 - mse: 0.0019 - val_loss: 2.4212e-04 - val_mse: 2.4212e-04\n",
            "Epoch 41/100\n",
            "12/12 [==============================] - 2s 149ms/step - loss: 0.0018 - mse: 0.0018 - val_loss: 2.4953e-04 - val_mse: 2.4953e-04\n",
            "Epoch 42/100\n",
            "12/12 [==============================] - 2s 150ms/step - loss: 0.0018 - mse: 0.0018 - val_loss: 3.1813e-04 - val_mse: 3.1813e-04\n",
            "Epoch 43/100\n",
            "12/12 [==============================] - 2s 150ms/step - loss: 0.0019 - mse: 0.0019 - val_loss: 2.4768e-04 - val_mse: 2.4768e-04\n",
            "Epoch 44/100\n",
            "12/12 [==============================] - 2s 150ms/step - loss: 0.0016 - mse: 0.0016 - val_loss: 2.5131e-04 - val_mse: 2.5131e-04\n",
            "Epoch 45/100\n",
            "12/12 [==============================] - 2s 147ms/step - loss: 0.0018 - mse: 0.0018 - val_loss: 2.8100e-04 - val_mse: 2.8100e-04\n",
            "Epoch 46/100\n",
            "12/12 [==============================] - 2s 149ms/step - loss: 0.0024 - mse: 0.0024 - val_loss: 2.9444e-04 - val_mse: 2.9444e-04\n",
            "Epoch 47/100\n",
            "12/12 [==============================] - 2s 149ms/step - loss: 0.0030 - mse: 0.0030 - val_loss: 2.8631e-04 - val_mse: 2.8631e-04\n",
            "Epoch 48/100\n",
            "12/12 [==============================] - 2s 153ms/step - loss: 0.0039 - mse: 0.0039 - val_loss: 2.5579e-04 - val_mse: 2.5579e-04\n",
            "Epoch 49/100\n",
            "12/12 [==============================] - 2s 149ms/step - loss: 0.0022 - mse: 0.0022 - val_loss: 3.0855e-04 - val_mse: 3.0855e-04\n",
            "Epoch 50/100\n",
            "12/12 [==============================] - 2s 151ms/step - loss: 0.0019 - mse: 0.0019 - val_loss: 2.5411e-04 - val_mse: 2.5411e-04\n",
            "Epoch 51/100\n",
            "12/12 [==============================] - 2s 151ms/step - loss: 0.0018 - mse: 0.0018 - val_loss: 2.8426e-04 - val_mse: 2.8426e-04\n",
            "Epoch 52/100\n",
            "12/12 [==============================] - 2s 151ms/step - loss: 0.0020 - mse: 0.0020 - val_loss: 2.8849e-04 - val_mse: 2.8849e-04\n",
            "Epoch 53/100\n",
            "12/12 [==============================] - 2s 153ms/step - loss: 0.0017 - mse: 0.0017 - val_loss: 2.6456e-04 - val_mse: 2.6456e-04\n",
            "Epoch 54/100\n",
            "12/12 [==============================] - 2s 146ms/step - loss: 0.0016 - mse: 0.0016 - val_loss: 2.4764e-04 - val_mse: 2.4764e-04\n",
            "Epoch 55/100\n",
            "12/12 [==============================] - 2s 154ms/step - loss: 0.0016 - mse: 0.0016 - val_loss: 2.4793e-04 - val_mse: 2.4793e-04\n",
            "Epoch 56/100\n",
            "12/12 [==============================] - 2s 153ms/step - loss: 0.0016 - mse: 0.0016 - val_loss: 2.4346e-04 - val_mse: 2.4346e-04\n",
            "Epoch 57/100\n",
            "12/12 [==============================] - 2s 150ms/step - loss: 0.0014 - mse: 0.0014 - val_loss: 2.5305e-04 - val_mse: 2.5305e-04\n",
            "Epoch 58/100\n",
            "12/12 [==============================] - 2s 155ms/step - loss: 0.0015 - mse: 0.0015 - val_loss: 2.4182e-04 - val_mse: 2.4182e-04\n",
            "Epoch 59/100\n",
            "12/12 [==============================] - 2s 151ms/step - loss: 0.0015 - mse: 0.0015 - val_loss: 3.5028e-04 - val_mse: 3.5028e-04\n",
            "Epoch 60/100\n",
            "12/12 [==============================] - 2s 149ms/step - loss: 0.0016 - mse: 0.0016 - val_loss: 2.6317e-04 - val_mse: 2.6317e-04\n",
            "Epoch 61/100\n",
            "12/12 [==============================] - 2s 151ms/step - loss: 0.0019 - mse: 0.0019 - val_loss: 2.9341e-04 - val_mse: 2.9341e-04\n",
            "Epoch 62/100\n",
            "12/12 [==============================] - 2s 151ms/step - loss: 0.0027 - mse: 0.0027 - val_loss: 4.2453e-04 - val_mse: 4.2453e-04\n",
            "Epoch 63/100\n",
            "12/12 [==============================] - 2s 153ms/step - loss: 0.0020 - mse: 0.0020 - val_loss: 2.8693e-04 - val_mse: 2.8693e-04\n",
            "Epoch 64/100\n",
            "12/12 [==============================] - 2s 152ms/step - loss: 0.0030 - mse: 0.0030 - val_loss: 6.5958e-04 - val_mse: 6.5958e-04\n",
            "Epoch 65/100\n",
            "12/12 [==============================] - 2s 150ms/step - loss: 0.0028 - mse: 0.0028 - val_loss: 2.8322e-04 - val_mse: 2.8322e-04\n",
            "Epoch 66/100\n",
            "12/12 [==============================] - 2s 151ms/step - loss: 0.0023 - mse: 0.0023 - val_loss: 3.2670e-04 - val_mse: 3.2670e-04\n",
            "Epoch 67/100\n",
            "12/12 [==============================] - 2s 151ms/step - loss: 0.0020 - mse: 0.0020 - val_loss: 2.5639e-04 - val_mse: 2.5639e-04\n",
            "Epoch 68/100\n",
            "12/12 [==============================] - 2s 155ms/step - loss: 0.0016 - mse: 0.0016 - val_loss: 3.1547e-04 - val_mse: 3.1547e-04\n",
            "Epoch 69/100\n",
            "12/12 [==============================] - 2s 153ms/step - loss: 0.0015 - mse: 0.0015 - val_loss: 2.9104e-04 - val_mse: 2.9104e-04\n",
            "Epoch 70/100\n",
            "12/12 [==============================] - 2s 204ms/step - loss: 0.0015 - mse: 0.0015 - val_loss: 2.4480e-04 - val_mse: 2.4480e-04\n",
            "Epoch 71/100\n",
            "12/12 [==============================] - 2s 152ms/step - loss: 0.0017 - mse: 0.0017 - val_loss: 2.5438e-04 - val_mse: 2.5438e-04\n",
            "Epoch 72/100\n",
            "12/12 [==============================] - 2s 151ms/step - loss: 0.0016 - mse: 0.0016 - val_loss: 2.6280e-04 - val_mse: 2.6280e-04\n",
            "Epoch 73/100\n",
            "12/12 [==============================] - 2s 146ms/step - loss: 0.0015 - mse: 0.0015 - val_loss: 2.5937e-04 - val_mse: 2.5937e-04\n",
            "Epoch 74/100\n",
            "12/12 [==============================] - 2s 153ms/step - loss: 0.0021 - mse: 0.0021 - val_loss: 2.5840e-04 - val_mse: 2.5840e-04\n",
            "Epoch 75/100\n",
            "12/12 [==============================] - 2s 153ms/step - loss: 0.0022 - mse: 0.0022 - val_loss: 2.4810e-04 - val_mse: 2.4810e-04\n",
            "Epoch 76/100\n",
            "12/12 [==============================] - 2s 156ms/step - loss: 0.0042 - mse: 0.0042 - val_loss: 4.3860e-04 - val_mse: 4.3860e-04\n",
            "Epoch 77/100\n",
            "12/12 [==============================] - 2s 153ms/step - loss: 0.0040 - mse: 0.0040 - val_loss: 0.0011 - val_mse: 0.0011\n",
            "Epoch 78/100\n",
            "12/12 [==============================] - 2s 155ms/step - loss: 0.0022 - mse: 0.0022 - val_loss: 3.1109e-04 - val_mse: 3.1109e-04\n",
            "Epoch 79/100\n",
            "12/12 [==============================] - 2s 153ms/step - loss: 0.0015 - mse: 0.0015 - val_loss: 2.5009e-04 - val_mse: 2.5009e-04\n",
            "Epoch 80/100\n",
            "12/12 [==============================] - 2s 142ms/step - loss: 0.0014 - mse: 0.0014 - val_loss: 3.2833e-04 - val_mse: 3.2833e-04\n",
            "Epoch 81/100\n",
            "12/12 [==============================] - 2s 149ms/step - loss: 0.0014 - mse: 0.0014 - val_loss: 2.3977e-04 - val_mse: 2.3977e-04\n",
            "Epoch 82/100\n",
            "12/12 [==============================] - 2s 152ms/step - loss: 0.0012 - mse: 0.0012 - val_loss: 2.4470e-04 - val_mse: 2.4470e-04\n",
            "Epoch 83/100\n",
            "12/12 [==============================] - 2s 155ms/step - loss: 0.0011 - mse: 0.0011 - val_loss: 2.5200e-04 - val_mse: 2.5200e-04\n",
            "Epoch 84/100\n",
            "12/12 [==============================] - 2s 153ms/step - loss: 0.0013 - mse: 0.0013 - val_loss: 2.5435e-04 - val_mse: 2.5435e-04\n",
            "Epoch 85/100\n",
            "12/12 [==============================] - 2s 151ms/step - loss: 0.0011 - mse: 0.0011 - val_loss: 2.4798e-04 - val_mse: 2.4798e-04\n",
            "Epoch 86/100\n",
            "12/12 [==============================] - 2s 147ms/step - loss: 0.0013 - mse: 0.0013 - val_loss: 2.5027e-04 - val_mse: 2.5027e-04\n",
            "Epoch 87/100\n",
            "12/12 [==============================] - 2s 148ms/step - loss: 0.0015 - mse: 0.0015 - val_loss: 2.5493e-04 - val_mse: 2.5493e-04\n",
            "Epoch 88/100\n",
            "12/12 [==============================] - 2s 157ms/step - loss: 0.0017 - mse: 0.0017 - val_loss: 2.5247e-04 - val_mse: 2.5247e-04\n",
            "Epoch 89/100\n",
            "12/12 [==============================] - 2s 154ms/step - loss: 0.0015 - mse: 0.0015 - val_loss: 2.6541e-04 - val_mse: 2.6541e-04\n",
            "Epoch 90/100\n",
            "12/12 [==============================] - 2s 151ms/step - loss: 0.0023 - mse: 0.0023 - val_loss: 3.4799e-04 - val_mse: 3.4799e-04\n",
            "Epoch 91/100\n",
            "12/12 [==============================] - 2s 152ms/step - loss: 0.0017 - mse: 0.0017 - val_loss: 2.5286e-04 - val_mse: 2.5286e-04\n",
            "Epoch 92/100\n",
            "12/12 [==============================] - 2s 148ms/step - loss: 0.0014 - mse: 0.0014 - val_loss: 2.3143e-04 - val_mse: 2.3143e-04\n",
            "Epoch 93/100\n",
            "12/12 [==============================] - 2s 148ms/step - loss: 0.0024 - mse: 0.0024 - val_loss: 3.1808e-04 - val_mse: 3.1808e-04\n",
            "Epoch 94/100\n",
            "12/12 [==============================] - 2s 151ms/step - loss: 0.0015 - mse: 0.0015 - val_loss: 4.2034e-04 - val_mse: 4.2034e-04\n",
            "Epoch 95/100\n",
            "12/12 [==============================] - 2s 155ms/step - loss: 0.0014 - mse: 0.0014 - val_loss: 2.7805e-04 - val_mse: 2.7805e-04\n",
            "Epoch 96/100\n",
            "12/12 [==============================] - 2s 148ms/step - loss: 0.0019 - mse: 0.0019 - val_loss: 2.3284e-04 - val_mse: 2.3284e-04\n",
            "Epoch 97/100\n",
            "12/12 [==============================] - 2s 151ms/step - loss: 0.0011 - mse: 0.0011 - val_loss: 2.3429e-04 - val_mse: 2.3429e-04\n",
            "Epoch 98/100\n",
            "12/12 [==============================] - 2s 150ms/step - loss: 0.0016 - mse: 0.0016 - val_loss: 2.9125e-04 - val_mse: 2.9125e-04\n",
            "Epoch 99/100\n",
            "12/12 [==============================] - 2s 156ms/step - loss: 0.0011 - mse: 0.0011 - val_loss: 2.3234e-04 - val_mse: 2.3234e-04\n",
            "Epoch 100/100\n",
            "12/12 [==============================] - 2s 154ms/step - loss: 0.0012 - mse: 0.0012 - val_loss: 2.3406e-04 - val_mse: 2.3406e-04\n"
          ]
        },
        {
          "output_type": "execute_result",
          "data": {
            "text/plain": [
              "<keras.callbacks.History at 0x7f3c726eefa0>"
            ]
          },
          "metadata": {},
          "execution_count": 345
        }
      ],
      "source": [
        "\n",
        "##classification->acc. || Regression->MSE\n",
        "\n",
        "\n",
        "\n",
        "#The ->epochs argument is set to 100, which means that the training process will \n",
        "#iterate over the entire dataset 100 times.\n",
        "\n",
        "#The ->batch_size argument is set to 64, which means that the model will update \n",
        "#its parameters after processing 64 training samples.\n",
        "\n",
        "#The ->verbose, is set to 1, which means that the model will print out the progress\n",
        "# of the training process as it goes.\n",
        "\n",
        "#100 time itr,update after 64 training smaples,progress of the training data\n",
        "model.fit(X_train,y_train,validation_data=(X_test,ytest),epochs=100,batch_size=64,verbose=1)\n",
        "#for->back tst then 1 epoc cycle"
      ]
    },
    {
      "cell_type": "code",
      "execution_count": null,
      "metadata": {
        "id": "wZFru_s3UF4D"
      },
      "outputs": [],
      "source": [
        "import tensorflow as tf\n"
      ]
    },
    {
      "cell_type": "code",
      "execution_count": null,
      "metadata": {
        "colab": {
          "base_uri": "https://localhost:8080/"
        },
        "id": "rzV2iLCXUILA",
        "outputId": "1c1b1bd3-2fb9-43ef-9388-b27737cbffdb"
      },
      "outputs": [
        {
          "output_type": "stream",
          "name": "stdout",
          "text": [
            "23/23 [==============================] - 2s 28ms/step\n",
            "11/11 [==============================] - 0s 28ms/step\n"
          ]
        }
      ],
      "source": [
        "### Lets Do the prediction and check performance metrics\n",
        "train_predict=model.predict(X_train)\n",
        "test_predict=model.predict(X_test)"
      ]
    },
    {
      "cell_type": "code",
      "execution_count": null,
      "metadata": {
        "id": "F4u2pPzQUJ-z"
      },
      "outputs": [],
      "source": [
        "##Transformback to original form\n",
        "##interpretation and comparsion\n",
        "\n",
        "#to transform the predicted values back to their original scale ->error find\n",
        "\n",
        "train_predict=scaler.inverse_transform(train_predict)\n",
        "\n",
        "#used to undo the scaling that was applied to the data during preprocessing\n",
        "test_predict=scaler.inverse_transform(test_predict)\n"
      ]
    },
    {
      "cell_type": "code",
      "execution_count": null,
      "metadata": {
        "colab": {
          "base_uri": "https://localhost:8080/"
        },
        "id": "URu1QZ9vUMc-",
        "outputId": "b1379bcf-92d6-4199-c65e-205dbc9e0cb0"
      },
      "outputs": [
        {
          "output_type": "execute_result",
          "data": {
            "text/plain": [
              "226.6188518467549"
            ]
          },
          "metadata": {},
          "execution_count": 323
        }
      ],
      "source": [
        "### Calculate RMSE performance metrics-> root mean squared error\n",
        "import math\n",
        "from sklearn.metrics import mean_squared_error\n",
        "math.sqrt(mean_squared_error(y_train,train_predict))#MSE THEN sqrt convert into RMSE"
      ]
    },
    {
      "cell_type": "code",
      "execution_count": null,
      "metadata": {
        "colab": {
          "base_uri": "https://localhost:8080/"
        },
        "id": "LqnYtSs_UOaf",
        "outputId": "132de005-f8c1-4178-c761-e12085822460"
      },
      "outputs": [
        {
          "output_type": "execute_result",
          "data": {
            "text/plain": [
              "154.46699822422198"
            ]
          },
          "metadata": {},
          "execution_count": 324
        }
      ],
      "source": [
        "### Test Data RMSE\n",
        "math.sqrt(mean_squared_error(ytest,test_predict))#MSE resulting->RMSE  Accu.<RMSE180"
      ]
    },
    {
      "cell_type": "code",
      "execution_count": null,
      "metadata": {
        "colab": {
          "base_uri": "https://localhost:8080/",
          "height": 265
        },
        "id": "s-azdxO_UQRe",
        "outputId": "23150ac1-8e18-4c18-8eb3-064e79dfcbf9"
      },
      "outputs": [
        {
          "output_type": "display_data",
          "data": {
            "text/plain": [
              "<Figure size 432x288 with 1 Axes>"
            ],
            "image/png": "[encoded data removed]"
          },
          "metadata": {
            "needs_background": "light"
          }
        }
      ],
      "source": [
        "### Plotting \n",
        "# shift train predictions for plotting\n",
        "look_back=100\n",
        "trainPredictPlot = numpy.empty_like(df1)\n",
        "trainPredictPlot[:, :] = np.nan #value filling with NaN->Not a Number\n",
        "trainPredictPlot[look_back:len(train_predict)+look_back, :] = train_predict\n",
        "# shift test predictions for plotting\n",
        "testPredictPlot = numpy.empty_like(df1)\n",
        "testPredictPlot[:, :] = numpy.nan\n",
        "testPredictPlot[len(train_predict)+(look_back*2)+1:len(df1)-1, :] = test_predict\n",
        "# plot baseline and predictions\n",
        "plt.plot(scaler.inverse_transform(df1))\n",
        "plt.plot(trainPredictPlot)\n",
        "plt.plot(testPredictPlot)\n",
        "plt.show()\n",
        "#G->pred\n",
        "#B->complete data\n",
        "#O->training"
      ]
    },
    {
      "cell_type": "code",
      "execution_count": null,
      "metadata": {
        "colab": {
          "base_uri": "https://localhost:8080/"
        },
        "id": "51cOPDe-kJKr",
        "outputId": "06cec837-d85e-4fa6-a08d-616d6f901ced"
      },
      "outputs": [
        {
          "output_type": "execute_result",
          "data": {
            "text/plain": [
              "441"
            ]
          },
          "metadata": {},
          "execution_count": 326
        }
      ],
      "source": [
        "len(test_data)\n",
        "# print(test_data)"
      ]
    },
    {
      "cell_type": "code",
      "execution_count": null,
      "metadata": {
        "colab": {
          "base_uri": "https://localhost:8080/"
        },
        "id": "-2v85KRIkNk0",
        "outputId": "77300758-a8b4-4a6e-8b75-1b3633e99304"
      },
      "outputs": [
        {
          "output_type": "execute_result",
          "data": {
            "text/plain": [
              "(1, 100)"
            ]
          },
          "metadata": {},
          "execution_count": 327
        }
      ],
      "source": [
        "x_input=test_data[341:].reshape(1,-1)#<- close prev data\n",
        "x_input.shape"
      ]
    },
    {
      "cell_type": "code",
      "execution_count": null,
      "metadata": {
        "colab": {
          "base_uri": "https://localhost:8080/"
        },
        "id": "ymt9Km7IkUZ9",
        "outputId": "ae2bc0ac-461f-4e29-8f63-4b913919e6cf"
      },
      "outputs": [
        {
          "output_type": "execute_result",
          "data": {
            "text/plain": [
              "1"
            ]
          },
          "metadata": {},
          "execution_count": 328
        }
      ],
      "source": [
        "len(x_input)"
      ]
    },
    {
      "cell_type": "code",
      "execution_count": null,
      "metadata": {
        "colab": {
          "base_uri": "https://localhost:8080/"
        },
        "id": "ybNNH4-pkVxJ",
        "outputId": "ec140b08-fc10-474d-db20-34d9178abac7"
      },
      "outputs": [
        {
          "output_type": "stream",
          "name": "stdout",
          "text": [
            "100\n"
          ]
        }
      ],
      "source": [
        "#this is used to make pred with a model,or used to data preprocessing\n",
        "temp_input=list(x_input)#new lst\n",
        "temp_input=temp_input[0].tolist()#1st ele access and convert into lst using tolst\n",
        "print(len(temp_input))"
      ]
    },
    {
      "cell_type": "code",
      "execution_count": null,
      "metadata": {
        "colab": {
          "base_uri": "https://localhost:8080/"
        },
        "id": "GSciDqs1kZfy",
        "outputId": "8ebb5af1-5e5c-4cd4-8c03-806f950e38a3"
      },
      "outputs": [
        {
          "output_type": "stream",
          "name": "stdout",
          "text": [
            "[0.08523837]\n",
            "101\n",
            "1 day input [0.12303068 0.11927364 0.1265623  0.14174076 0.11772073 0.12140263\n",
            " 0.11403882 0.10985598 0.11932373 0.1253851  0.11742016 0.11496556\n",
            " 0.10917971 0.11003131 0.11251096 0.10770194 0.08926738 0.07854728\n",
            " 0.08919224 0.09833438 0.09908579 0.09665623 0.08328115 0.0841077\n",
            " 0.08050094 0.07889793 0.09054477 0.07899812 0.08909205 0.09244834\n",
            " 0.09272386 0.09154665 0.10126487 0.10672511 0.11396368 0.10647464\n",
            " 0.09507827 0.12247965 0.11646838 0.10973075 0.09565435 0.08025047\n",
            " 0.07899812 0.08035066 0.08180338 0.07020664 0.10026299 0.10735128\n",
            " 0.10379461 0.10820288 0.10507201 0.10990607 0.11133375 0.10311835\n",
            " 0.10855354 0.11078272 0.10336882 0.09362555 0.08598622 0.10316844\n",
            " 0.10386976 0.10261741 0.09966187 0.0903444  0.08541014 0.08969317\n",
            " 0.08846587 0.09430182 0.09675642 0.0910958  0.07428929 0.06930495\n",
            " 0.0639449  0.06376957 0.07165936 0.06359424 0.0626675  0.05808391\n",
            " 0.04809017 0.05703193 0.05783344 0.04566061 0.04889167 0.04553538\n",
            " 0.05705698 0.05838447 0.05983719 0.06675016 0.06654978 0.06993112\n",
            " 0.07288666 0.07105823 0.07120852 0.07772073 0.08583594 0.08939261\n",
            " 0.08771446 0.09297433 0.09790858 0.08523837]\n",
            "1 day output [[0.08766605]]\n",
            "2 day input [0.11927364 0.1265623  0.14174076 0.11772073 0.12140263 0.11403882\n",
            " 0.10985598 0.11932373 0.1253851  0.11742016 0.11496556 0.10917971\n",
            " 0.11003131 0.11251096 0.10770194 0.08926738 0.07854728 0.08919224\n",
            " 0.09833438 0.09908579 0.09665623 0.08328115 0.0841077  0.08050094\n",
            " 0.07889793 0.09054477 0.07899812 0.08909205 0.09244834 0.09272386\n",
            " 0.09154665 0.10126487 0.10672511 0.11396368 0.10647464 0.09507827\n",
            " 0.12247965 0.11646838 0.10973075 0.09565435 0.08025047 0.07899812\n",
            " 0.08035066 0.08180338 0.07020664 0.10026299 0.10735128 0.10379461\n",
            " 0.10820288 0.10507201 0.10990607 0.11133375 0.10311835 0.10855354\n",
            " 0.11078272 0.10336882 0.09362555 0.08598622 0.10316844 0.10386976\n",
            " 0.10261741 0.09966187 0.0903444  0.08541014 0.08969317 0.08846587\n",
            " 0.09430182 0.09675642 0.0910958  0.07428929 0.06930495 0.0639449\n",
            " 0.06376957 0.07165936 0.06359424 0.0626675  0.05808391 0.04809017\n",
            " 0.05703193 0.05783344 0.04566061 0.04889167 0.04553538 0.05705698\n",
            " 0.05838447 0.05983719 0.06675016 0.06654978 0.06993112 0.07288666\n",
            " 0.07105823 0.07120852 0.07772073 0.08583594 0.08939261 0.08771446\n",
            " 0.09297433 0.09790858 0.08523837 0.08766605]\n",
            "2 day output [[0.08928303]]\n",
            "3 day input [0.1265623  0.14174076 0.11772073 0.12140263 0.11403882 0.10985598\n",
            " 0.11932373 0.1253851  0.11742016 0.11496556 0.10917971 0.11003131\n",
            " 0.11251096 0.10770194 0.08926738 0.07854728 0.08919224 0.09833438\n",
            " 0.09908579 0.09665623 0.08328115 0.0841077  0.08050094 0.07889793\n",
            " 0.09054477 0.07899812 0.08909205 0.09244834 0.09272386 0.09154665\n",
            " 0.10126487 0.10672511 0.11396368 0.10647464 0.09507827 0.12247965\n",
            " 0.11646838 0.10973075 0.09565435 0.08025047 0.07899812 0.08035066\n",
            " 0.08180338 0.07020664 0.10026299 0.10735128 0.10379461 0.10820288\n",
            " 0.10507201 0.10990607 0.11133375 0.10311835 0.10855354 0.11078272\n",
            " 0.10336882 0.09362555 0.08598622 0.10316844 0.10386976 0.10261741\n",
            " 0.09966187 0.0903444  0.08541014 0.08969317 0.08846587 0.09430182\n",
            " 0.09675642 0.0910958  0.07428929 0.06930495 0.0639449  0.06376957\n",
            " 0.07165936 0.06359424 0.0626675  0.05808391 0.04809017 0.05703193\n",
            " 0.05783344 0.04566061 0.04889167 0.04553538 0.05705698 0.05838447\n",
            " 0.05983719 0.06675016 0.06654978 0.06993112 0.07288666 0.07105823\n",
            " 0.07120852 0.07772073 0.08583594 0.08939261 0.08771446 0.09297433\n",
            " 0.09790858 0.08523837 0.08766605 0.08928303]\n",
            "3 day output [[0.09031039]]\n",
            "4 day input [0.14174076 0.11772073 0.12140263 0.11403882 0.10985598 0.11932373\n",
            " 0.1253851  0.11742016 0.11496556 0.10917971 0.11003131 0.11251096\n",
            " 0.10770194 0.08926738 0.07854728 0.08919224 0.09833438 0.09908579\n",
            " 0.09665623 0.08328115 0.0841077  0.08050094 0.07889793 0.09054477\n",
            " 0.07899812 0.08909205 0.09244834 0.09272386 0.09154665 0.10126487\n",
            " 0.10672511 0.11396368 0.10647464 0.09507827 0.12247965 0.11646838\n",
            " 0.10973075 0.09565435 0.08025047 0.07899812 0.08035066 0.08180338\n",
            " 0.07020664 0.10026299 0.10735128 0.10379461 0.10820288 0.10507201\n",
            " 0.10990607 0.11133375 0.10311835 0.10855354 0.11078272 0.10336882\n",
            " 0.09362555 0.08598622 0.10316844 0.10386976 0.10261741 0.09966187\n",
            " 0.0903444  0.08541014 0.08969317 0.08846587 0.09430182 0.09675642\n",
            " 0.0910958  0.07428929 0.06930495 0.0639449  0.06376957 0.07165936\n",
            " 0.06359424 0.0626675  0.05808391 0.04809017 0.05703193 0.05783344\n",
            " 0.04566061 0.04889167 0.04553538 0.05705698 0.05838447 0.05983719\n",
            " 0.06675016 0.06654978 0.06993112 0.07288666 0.07105823 0.07120852\n",
            " 0.07772073 0.08583594 0.08939261 0.08771446 0.09297433 0.09790858\n",
            " 0.08523837 0.08766605 0.08928303 0.09031039]\n",
            "4 day output [[0.09097655]]\n",
            "5 day input [0.11772073 0.12140263 0.11403882 0.10985598 0.11932373 0.1253851\n",
            " 0.11742016 0.11496556 0.10917971 0.11003131 0.11251096 0.10770194\n",
            " 0.08926738 0.07854728 0.08919224 0.09833438 0.09908579 0.09665623\n",
            " 0.08328115 0.0841077  0.08050094 0.07889793 0.09054477 0.07899812\n",
            " 0.08909205 0.09244834 0.09272386 0.09154665 0.10126487 0.10672511\n",
            " 0.11396368 0.10647464 0.09507827 0.12247965 0.11646838 0.10973075\n",
            " 0.09565435 0.08025047 0.07899812 0.08035066 0.08180338 0.07020664\n",
            " 0.10026299 0.10735128 0.10379461 0.10820288 0.10507201 0.10990607\n",
            " 0.11133375 0.10311835 0.10855354 0.11078272 0.10336882 0.09362555\n",
            " 0.08598622 0.10316844 0.10386976 0.10261741 0.09966187 0.0903444\n",
            " 0.08541014 0.08969317 0.08846587 0.09430182 0.09675642 0.0910958\n",
            " 0.07428929 0.06930495 0.0639449  0.06376957 0.07165936 0.06359424\n",
            " 0.0626675  0.05808391 0.04809017 0.05703193 0.05783344 0.04566061\n",
            " 0.04889167 0.04553538 0.05705698 0.05838447 0.05983719 0.06675016\n",
            " 0.06654978 0.06993112 0.07288666 0.07105823 0.07120852 0.07772073\n",
            " 0.08583594 0.08939261 0.08771446 0.09297433 0.09790858 0.08523837\n",
            " 0.08766605 0.08928303 0.09031039 0.09097655]\n",
            "5 day output [[0.09144139]]\n",
            "6 day input [0.12140263 0.11403882 0.10985598 0.11932373 0.1253851  0.11742016\n",
            " 0.11496556 0.10917971 0.11003131 0.11251096 0.10770194 0.08926738\n",
            " 0.07854728 0.08919224 0.09833438 0.09908579 0.09665623 0.08328115\n",
            " 0.0841077  0.08050094 0.07889793 0.09054477 0.07899812 0.08909205\n",
            " 0.09244834 0.09272386 0.09154665 0.10126487 0.10672511 0.11396368\n",
            " 0.10647464 0.09507827 0.12247965 0.11646838 0.10973075 0.09565435\n",
            " 0.08025047 0.07899812 0.08035066 0.08180338 0.07020664 0.10026299\n",
            " 0.10735128 0.10379461 0.10820288 0.10507201 0.10990607 0.11133375\n",
            " 0.10311835 0.10855354 0.11078272 0.10336882 0.09362555 0.08598622\n",
            " 0.10316844 0.10386976 0.10261741 0.09966187 0.0903444  0.08541014\n",
            " 0.08969317 0.08846587 0.09430182 0.09675642 0.0910958  0.07428929\n",
            " 0.06930495 0.0639449  0.06376957 0.07165936 0.06359424 0.0626675\n",
            " 0.05808391 0.04809017 0.05703193 0.05783344 0.04566061 0.04889167\n",
            " 0.04553538 0.05705698 0.05838447 0.05983719 0.06675016 0.06654978\n",
            " 0.06993112 0.07288666 0.07105823 0.07120852 0.07772073 0.08583594\n",
            " 0.08939261 0.08771446 0.09297433 0.09790858 0.08523837 0.08766605\n",
            " 0.08928303 0.09031039 0.09097655 0.09144139]\n",
            "6 day output [[0.09179778]]\n",
            "7 day input [0.11403882 0.10985598 0.11932373 0.1253851  0.11742016 0.11496556\n",
            " 0.10917971 0.11003131 0.11251096 0.10770194 0.08926738 0.07854728\n",
            " 0.08919224 0.09833438 0.09908579 0.09665623 0.08328115 0.0841077\n",
            " 0.08050094 0.07889793 0.09054477 0.07899812 0.08909205 0.09244834\n",
            " 0.09272386 0.09154665 0.10126487 0.10672511 0.11396368 0.10647464\n",
            " 0.09507827 0.12247965 0.11646838 0.10973075 0.09565435 0.08025047\n",
            " 0.07899812 0.08035066 0.08180338 0.07020664 0.10026299 0.10735128\n",
            " 0.10379461 0.10820288 0.10507201 0.10990607 0.11133375 0.10311835\n",
            " 0.10855354 0.11078272 0.10336882 0.09362555 0.08598622 0.10316844\n",
            " 0.10386976 0.10261741 0.09966187 0.0903444  0.08541014 0.08969317\n",
            " 0.08846587 0.09430182 0.09675642 0.0910958  0.07428929 0.06930495\n",
            " 0.0639449  0.06376957 0.07165936 0.06359424 0.0626675  0.05808391\n",
            " 0.04809017 0.05703193 0.05783344 0.04566061 0.04889167 0.04553538\n",
            " 0.05705698 0.05838447 0.05983719 0.06675016 0.06654978 0.06993112\n",
            " 0.07288666 0.07105823 0.07120852 0.07772073 0.08583594 0.08939261\n",
            " 0.08771446 0.09297433 0.09790858 0.08523837 0.08766605 0.08928303\n",
            " 0.09031039 0.09097655 0.09144139 0.09179778]\n",
            "7 day output [[0.0920932]]\n",
            "8 day input [0.10985598 0.11932373 0.1253851  0.11742016 0.11496556 0.10917971\n",
            " 0.11003131 0.11251096 0.10770194 0.08926738 0.07854728 0.08919224\n",
            " 0.09833438 0.09908579 0.09665623 0.08328115 0.0841077  0.08050094\n",
            " 0.07889793 0.09054477 0.07899812 0.08909205 0.09244834 0.09272386\n",
            " 0.09154665 0.10126487 0.10672511 0.11396368 0.10647464 0.09507827\n",
            " 0.12247965 0.11646838 0.10973075 0.09565435 0.08025047 0.07899812\n",
            " 0.08035066 0.08180338 0.07020664 0.10026299 0.10735128 0.10379461\n",
            " 0.10820288 0.10507201 0.10990607 0.11133375 0.10311835 0.10855354\n",
            " 0.11078272 0.10336882 0.09362555 0.08598622 0.10316844 0.10386976\n",
            " 0.10261741 0.09966187 0.0903444  0.08541014 0.08969317 0.08846587\n",
            " 0.09430182 0.09675642 0.0910958  0.07428929 0.06930495 0.0639449\n",
            " 0.06376957 0.07165936 0.06359424 0.0626675  0.05808391 0.04809017\n",
            " 0.05703193 0.05783344 0.04566061 0.04889167 0.04553538 0.05705698\n",
            " 0.05838447 0.05983719 0.06675016 0.06654978 0.06993112 0.07288666\n",
            " 0.07105823 0.07120852 0.07772073 0.08583594 0.08939261 0.08771446\n",
            " 0.09297433 0.09790858 0.08523837 0.08766605 0.08928303 0.09031039\n",
            " 0.09097655 0.09144139 0.09179778 0.0920932 ]\n",
            "8 day output [[0.09234996]]\n",
            "9 day input [0.11932373 0.1253851  0.11742016 0.11496556 0.10917971 0.11003131\n",
            " 0.11251096 0.10770194 0.08926738 0.07854728 0.08919224 0.09833438\n",
            " 0.09908579 0.09665623 0.08328115 0.0841077  0.08050094 0.07889793\n",
            " 0.09054477 0.07899812 0.08909205 0.09244834 0.09272386 0.09154665\n",
            " 0.10126487 0.10672511 0.11396368 0.10647464 0.09507827 0.12247965\n",
            " 0.11646838 0.10973075 0.09565435 0.08025047 0.07899812 0.08035066\n",
            " 0.08180338 0.07020664 0.10026299 0.10735128 0.10379461 0.10820288\n",
            " 0.10507201 0.10990607 0.11133375 0.10311835 0.10855354 0.11078272\n",
            " 0.10336882 0.09362555 0.08598622 0.10316844 0.10386976 0.10261741\n",
            " 0.09966187 0.0903444  0.08541014 0.08969317 0.08846587 0.09430182\n",
            " 0.09675642 0.0910958  0.07428929 0.06930495 0.0639449  0.06376957\n",
            " 0.07165936 0.06359424 0.0626675  0.05808391 0.04809017 0.05703193\n",
            " 0.05783344 0.04566061 0.04889167 0.04553538 0.05705698 0.05838447\n",
            " 0.05983719 0.06675016 0.06654978 0.06993112 0.07288666 0.07105823\n",
            " 0.07120852 0.07772073 0.08583594 0.08939261 0.08771446 0.09297433\n",
            " 0.09790858 0.08523837 0.08766605 0.08928303 0.09031039 0.09097655\n",
            " 0.09144139 0.09179778 0.0920932  0.09234996]\n",
            "9 day output [[0.0925786]]\n",
            "10 day input [0.1253851  0.11742016 0.11496556 0.10917971 0.11003131 0.11251096\n",
            " 0.10770194 0.08926738 0.07854728 0.08919224 0.09833438 0.09908579\n",
            " 0.09665623 0.08328115 0.0841077  0.08050094 0.07889793 0.09054477\n",
            " 0.07899812 0.08909205 0.09244834 0.09272386 0.09154665 0.10126487\n",
            " 0.10672511 0.11396368 0.10647464 0.09507827 0.12247965 0.11646838\n",
            " 0.10973075 0.09565435 0.08025047 0.07899812 0.08035066 0.08180338\n",
            " 0.07020664 0.10026299 0.10735128 0.10379461 0.10820288 0.10507201\n",
            " 0.10990607 0.11133375 0.10311835 0.10855354 0.11078272 0.10336882\n",
            " 0.09362555 0.08598622 0.10316844 0.10386976 0.10261741 0.09966187\n",
            " 0.0903444  0.08541014 0.08969317 0.08846587 0.09430182 0.09675642\n",
            " 0.0910958  0.07428929 0.06930495 0.0639449  0.06376957 0.07165936\n",
            " 0.06359424 0.0626675  0.05808391 0.04809017 0.05703193 0.05783344\n",
            " 0.04566061 0.04889167 0.04553538 0.05705698 0.05838447 0.05983719\n",
            " 0.06675016 0.06654978 0.06993112 0.07288666 0.07105823 0.07120852\n",
            " 0.07772073 0.08583594 0.08939261 0.08771446 0.09297433 0.09790858\n",
            " 0.08523837 0.08766605 0.08928303 0.09031039 0.09097655 0.09144139\n",
            " 0.09179778 0.0920932  0.09234996 0.0925786 ]\n",
            "10 day output [[0.0927851]]\n",
            "11 day input [0.11742016 0.11496556 0.10917971 0.11003131 0.11251096 0.10770194\n",
            " 0.08926738 0.07854728 0.08919224 0.09833438 0.09908579 0.09665623\n",
            " 0.08328115 0.0841077  0.08050094 0.07889793 0.09054477 0.07899812\n",
            " 0.08909205 0.09244834 0.09272386 0.09154665 0.10126487 0.10672511\n",
            " 0.11396368 0.10647464 0.09507827 0.12247965 0.11646838 0.10973075\n",
            " 0.09565435 0.08025047 0.07899812 0.08035066 0.08180338 0.07020664\n",
            " 0.10026299 0.10735128 0.10379461 0.10820288 0.10507201 0.10990607\n",
            " 0.11133375 0.10311835 0.10855354 0.11078272 0.10336882 0.09362555\n",
            " 0.08598622 0.10316844 0.10386976 0.10261741 0.09966187 0.0903444\n",
            " 0.08541014 0.08969317 0.08846587 0.09430182 0.09675642 0.0910958\n",
            " 0.07428929 0.06930495 0.0639449  0.06376957 0.07165936 0.06359424\n",
            " 0.0626675  0.05808391 0.04809017 0.05703193 0.05783344 0.04566061\n",
            " 0.04889167 0.04553538 0.05705698 0.05838447 0.05983719 0.06675016\n",
            " 0.06654978 0.06993112 0.07288666 0.07105823 0.07120852 0.07772073\n",
            " 0.08583594 0.08939261 0.08771446 0.09297433 0.09790858 0.08523837\n",
            " 0.08766605 0.08928303 0.09031039 0.09097655 0.09144139 0.09179778\n",
            " 0.0920932  0.09234996 0.0925786  0.0927851 ]\n",
            "11 day output [[0.09297402]]\n",
            "12 day input [0.11496556 0.10917971 0.11003131 0.11251096 0.10770194 0.08926738\n",
            " 0.07854728 0.08919224 0.09833438 0.09908579 0.09665623 0.08328115\n",
            " 0.0841077  0.08050094 0.07889793 0.09054477 0.07899812 0.08909205\n",
            " 0.09244834 0.09272386 0.09154665 0.10126487 0.10672511 0.11396368\n",
            " 0.10647464 0.09507827 0.12247965 0.11646838 0.10973075 0.09565435\n",
            " 0.08025047 0.07899812 0.08035066 0.08180338 0.07020664 0.10026299\n",
            " 0.10735128 0.10379461 0.10820288 0.10507201 0.10990607 0.11133375\n",
            " 0.10311835 0.10855354 0.11078272 0.10336882 0.09362555 0.08598622\n",
            " 0.10316844 0.10386976 0.10261741 0.09966187 0.0903444  0.08541014\n",
            " 0.08969317 0.08846587 0.09430182 0.09675642 0.0910958  0.07428929\n",
            " 0.06930495 0.0639449  0.06376957 0.07165936 0.06359424 0.0626675\n",
            " 0.05808391 0.04809017 0.05703193 0.05783344 0.04566061 0.04889167\n",
            " 0.04553538 0.05705698 0.05838447 0.05983719 0.06675016 0.06654978\n",
            " 0.06993112 0.07288666 0.07105823 0.07120852 0.07772073 0.08583594\n",
            " 0.08939261 0.08771446 0.09297433 0.09790858 0.08523837 0.08766605\n",
            " 0.08928303 0.09031039 0.09097655 0.09144139 0.09179778 0.0920932\n",
            " 0.09234996 0.0925786  0.0927851  0.09297402]\n",
            "12 day output [[0.09314958]]\n",
            "13 day input [0.10917971 0.11003131 0.11251096 0.10770194 0.08926738 0.07854728\n",
            " 0.08919224 0.09833438 0.09908579 0.09665623 0.08328115 0.0841077\n",
            " 0.08050094 0.07889793 0.09054477 0.07899812 0.08909205 0.09244834\n",
            " 0.09272386 0.09154665 0.10126487 0.10672511 0.11396368 0.10647464\n",
            " 0.09507827 0.12247965 0.11646838 0.10973075 0.09565435 0.08025047\n",
            " 0.07899812 0.08035066 0.08180338 0.07020664 0.10026299 0.10735128\n",
            " 0.10379461 0.10820288 0.10507201 0.10990607 0.11133375 0.10311835\n",
            " 0.10855354 0.11078272 0.10336882 0.09362555 0.08598622 0.10316844\n",
            " 0.10386976 0.10261741 0.09966187 0.0903444  0.08541014 0.08969317\n",
            " 0.08846587 0.09430182 0.09675642 0.0910958  0.07428929 0.06930495\n",
            " 0.0639449  0.06376957 0.07165936 0.06359424 0.0626675  0.05808391\n",
            " 0.04809017 0.05703193 0.05783344 0.04566061 0.04889167 0.04553538\n",
            " 0.05705698 0.05838447 0.05983719 0.06675016 0.06654978 0.06993112\n",
            " 0.07288666 0.07105823 0.07120852 0.07772073 0.08583594 0.08939261\n",
            " 0.08771446 0.09297433 0.09790858 0.08523837 0.08766605 0.08928303\n",
            " 0.09031039 0.09097655 0.09144139 0.09179778 0.0920932  0.09234996\n",
            " 0.0925786  0.0927851  0.09297402 0.09314958]\n",
            "13 day output [[0.09331578]]\n",
            "14 day input [0.11003131 0.11251096 0.10770194 0.08926738 0.07854728 0.08919224\n",
            " 0.09833438 0.09908579 0.09665623 0.08328115 0.0841077  0.08050094\n",
            " 0.07889793 0.09054477 0.07899812 0.08909205 0.09244834 0.09272386\n",
            " 0.09154665 0.10126487 0.10672511 0.11396368 0.10647464 0.09507827\n",
            " 0.12247965 0.11646838 0.10973075 0.09565435 0.08025047 0.07899812\n",
            " 0.08035066 0.08180338 0.07020664 0.10026299 0.10735128 0.10379461\n",
            " 0.10820288 0.10507201 0.10990607 0.11133375 0.10311835 0.10855354\n",
            " 0.11078272 0.10336882 0.09362555 0.08598622 0.10316844 0.10386976\n",
            " 0.10261741 0.09966187 0.0903444  0.08541014 0.08969317 0.08846587\n",
            " 0.09430182 0.09675642 0.0910958  0.07428929 0.06930495 0.0639449\n",
            " 0.06376957 0.07165936 0.06359424 0.0626675  0.05808391 0.04809017\n",
            " 0.05703193 0.05783344 0.04566061 0.04889167 0.04553538 0.05705698\n",
            " 0.05838447 0.05983719 0.06675016 0.06654978 0.06993112 0.07288666\n",
            " 0.07105823 0.07120852 0.07772073 0.08583594 0.08939261 0.08771446\n",
            " 0.09297433 0.09790858 0.08523837 0.08766605 0.08928303 0.09031039\n",
            " 0.09097655 0.09144139 0.09179778 0.0920932  0.09234996 0.0925786\n",
            " 0.0927851  0.09297402 0.09314958 0.09331578]\n",
            "14 day output [[0.09347615]]\n",
            "15 day input [0.11251096 0.10770194 0.08926738 0.07854728 0.08919224 0.09833438\n",
            " 0.09908579 0.09665623 0.08328115 0.0841077  0.08050094 0.07889793\n",
            " 0.09054477 0.07899812 0.08909205 0.09244834 0.09272386 0.09154665\n",
            " 0.10126487 0.10672511 0.11396368 0.10647464 0.09507827 0.12247965\n",
            " 0.11646838 0.10973075 0.09565435 0.08025047 0.07899812 0.08035066\n",
            " 0.08180338 0.07020664 0.10026299 0.10735128 0.10379461 0.10820288\n",
            " 0.10507201 0.10990607 0.11133375 0.10311835 0.10855354 0.11078272\n",
            " 0.10336882 0.09362555 0.08598622 0.10316844 0.10386976 0.10261741\n",
            " 0.09966187 0.0903444  0.08541014 0.08969317 0.08846587 0.09430182\n",
            " 0.09675642 0.0910958  0.07428929 0.06930495 0.0639449  0.06376957\n",
            " 0.07165936 0.06359424 0.0626675  0.05808391 0.04809017 0.05703193\n",
            " 0.05783344 0.04566061 0.04889167 0.04553538 0.05705698 0.05838447\n",
            " 0.05983719 0.06675016 0.06654978 0.06993112 0.07288666 0.07105823\n",
            " 0.07120852 0.07772073 0.08583594 0.08939261 0.08771446 0.09297433\n",
            " 0.09790858 0.08523837 0.08766605 0.08928303 0.09031039 0.09097655\n",
            " 0.09144139 0.09179778 0.0920932  0.09234996 0.0925786  0.0927851\n",
            " 0.09297402 0.09314958 0.09331578 0.09347615]\n",
            "15 day output [[0.09363355]]\n",
            "16 day input [0.10770194 0.08926738 0.07854728 0.08919224 0.09833438 0.09908579\n",
            " 0.09665623 0.08328115 0.0841077  0.08050094 0.07889793 0.09054477\n",
            " 0.07899812 0.08909205 0.09244834 0.09272386 0.09154665 0.10126487\n",
            " 0.10672511 0.11396368 0.10647464 0.09507827 0.12247965 0.11646838\n",
            " 0.10973075 0.09565435 0.08025047 0.07899812 0.08035066 0.08180338\n",
            " 0.07020664 0.10026299 0.10735128 0.10379461 0.10820288 0.10507201\n",
            " 0.10990607 0.11133375 0.10311835 0.10855354 0.11078272 0.10336882\n",
            " 0.09362555 0.08598622 0.10316844 0.10386976 0.10261741 0.09966187\n",
            " 0.0903444  0.08541014 0.08969317 0.08846587 0.09430182 0.09675642\n",
            " 0.0910958  0.07428929 0.06930495 0.0639449  0.06376957 0.07165936\n",
            " 0.06359424 0.0626675  0.05808391 0.04809017 0.05703193 0.05783344\n",
            " 0.04566061 0.04889167 0.04553538 0.05705698 0.05838447 0.05983719\n",
            " 0.06675016 0.06654978 0.06993112 0.07288666 0.07105823 0.07120852\n",
            " 0.07772073 0.08583594 0.08939261 0.08771446 0.09297433 0.09790858\n",
            " 0.08523837 0.08766605 0.08928303 0.09031039 0.09097655 0.09144139\n",
            " 0.09179778 0.0920932  0.09234996 0.0925786  0.0927851  0.09297402\n",
            " 0.09314958 0.09331578 0.09347615 0.09363355]\n",
            "16 day output [[0.09379013]]\n",
            "17 day input [0.08926738 0.07854728 0.08919224 0.09833438 0.09908579 0.09665623\n",
            " 0.08328115 0.0841077  0.08050094 0.07889793 0.09054477 0.07899812\n",
            " 0.08909205 0.09244834 0.09272386 0.09154665 0.10126487 0.10672511\n",
            " 0.11396368 0.10647464 0.09507827 0.12247965 0.11646838 0.10973075\n",
            " 0.09565435 0.08025047 0.07899812 0.08035066 0.08180338 0.07020664\n",
            " 0.10026299 0.10735128 0.10379461 0.10820288 0.10507201 0.10990607\n",
            " 0.11133375 0.10311835 0.10855354 0.11078272 0.10336882 0.09362555\n",
            " 0.08598622 0.10316844 0.10386976 0.10261741 0.09966187 0.0903444\n",
            " 0.08541014 0.08969317 0.08846587 0.09430182 0.09675642 0.0910958\n",
            " 0.07428929 0.06930495 0.0639449  0.06376957 0.07165936 0.06359424\n",
            " 0.0626675  0.05808391 0.04809017 0.05703193 0.05783344 0.04566061\n",
            " 0.04889167 0.04553538 0.05705698 0.05838447 0.05983719 0.06675016\n",
            " 0.06654978 0.06993112 0.07288666 0.07105823 0.07120852 0.07772073\n",
            " 0.08583594 0.08939261 0.08771446 0.09297433 0.09790858 0.08523837\n",
            " 0.08766605 0.08928303 0.09031039 0.09097655 0.09144139 0.09179778\n",
            " 0.0920932  0.09234996 0.0925786  0.0927851  0.09297402 0.09314958\n",
            " 0.09331578 0.09347615 0.09363355 0.09379013]\n",
            "17 day output [[0.09394726]]\n",
            "18 day input [0.07854728 0.08919224 0.09833438 0.09908579 0.09665623 0.08328115\n",
            " 0.0841077  0.08050094 0.07889793 0.09054477 0.07899812 0.08909205\n",
            " 0.09244834 0.09272386 0.09154665 0.10126487 0.10672511 0.11396368\n",
            " 0.10647464 0.09507827 0.12247965 0.11646838 0.10973075 0.09565435\n",
            " 0.08025047 0.07899812 0.08035066 0.08180338 0.07020664 0.10026299\n",
            " 0.10735128 0.10379461 0.10820288 0.10507201 0.10990607 0.11133375\n",
            " 0.10311835 0.10855354 0.11078272 0.10336882 0.09362555 0.08598622\n",
            " 0.10316844 0.10386976 0.10261741 0.09966187 0.0903444  0.08541014\n",
            " 0.08969317 0.08846587 0.09430182 0.09675642 0.0910958  0.07428929\n",
            " 0.06930495 0.0639449  0.06376957 0.07165936 0.06359424 0.0626675\n",
            " 0.05808391 0.04809017 0.05703193 0.05783344 0.04566061 0.04889167\n",
            " 0.04553538 0.05705698 0.05838447 0.05983719 0.06675016 0.06654978\n",
            " 0.06993112 0.07288666 0.07105823 0.07120852 0.07772073 0.08583594\n",
            " 0.08939261 0.08771446 0.09297433 0.09790858 0.08523837 0.08766605\n",
            " 0.08928303 0.09031039 0.09097655 0.09144139 0.09179778 0.0920932\n",
            " 0.09234996 0.0925786  0.0927851  0.09297402 0.09314958 0.09331578\n",
            " 0.09347615 0.09363355 0.09379013 0.09394726]\n",
            "18 day output [[0.0941057]]\n",
            "19 day input [0.08919224 0.09833438 0.09908579 0.09665623 0.08328115 0.0841077\n",
            " 0.08050094 0.07889793 0.09054477 0.07899812 0.08909205 0.09244834\n",
            " 0.09272386 0.09154665 0.10126487 0.10672511 0.11396368 0.10647464\n",
            " 0.09507827 0.12247965 0.11646838 0.10973075 0.09565435 0.08025047\n",
            " 0.07899812 0.08035066 0.08180338 0.07020664 0.10026299 0.10735128\n",
            " 0.10379461 0.10820288 0.10507201 0.10990607 0.11133375 0.10311835\n",
            " 0.10855354 0.11078272 0.10336882 0.09362555 0.08598622 0.10316844\n",
            " 0.10386976 0.10261741 0.09966187 0.0903444  0.08541014 0.08969317\n",
            " 0.08846587 0.09430182 0.09675642 0.0910958  0.07428929 0.06930495\n",
            " 0.0639449  0.06376957 0.07165936 0.06359424 0.0626675  0.05808391\n",
            " 0.04809017 0.05703193 0.05783344 0.04566061 0.04889167 0.04553538\n",
            " 0.05705698 0.05838447 0.05983719 0.06675016 0.06654978 0.06993112\n",
            " 0.07288666 0.07105823 0.07120852 0.07772073 0.08583594 0.08939261\n",
            " 0.08771446 0.09297433 0.09790858 0.08523837 0.08766605 0.08928303\n",
            " 0.09031039 0.09097655 0.09144139 0.09179778 0.0920932  0.09234996\n",
            " 0.0925786  0.0927851  0.09297402 0.09314958 0.09331578 0.09347615\n",
            " 0.09363355 0.09379013 0.09394726 0.0941057 ]\n",
            "19 day output [[0.09426562]]\n",
            "20 day input [0.09833438 0.09908579 0.09665623 0.08328115 0.0841077  0.08050094\n",
            " 0.07889793 0.09054477 0.07899812 0.08909205 0.09244834 0.09272386\n",
            " 0.09154665 0.10126487 0.10672511 0.11396368 0.10647464 0.09507827\n",
            " 0.12247965 0.11646838 0.10973075 0.09565435 0.08025047 0.07899812\n",
            " 0.08035066 0.08180338 0.07020664 0.10026299 0.10735128 0.10379461\n",
            " 0.10820288 0.10507201 0.10990607 0.11133375 0.10311835 0.10855354\n",
            " 0.11078272 0.10336882 0.09362555 0.08598622 0.10316844 0.10386976\n",
            " 0.10261741 0.09966187 0.0903444  0.08541014 0.08969317 0.08846587\n",
            " 0.09430182 0.09675642 0.0910958  0.07428929 0.06930495 0.0639449\n",
            " 0.06376957 0.07165936 0.06359424 0.0626675  0.05808391 0.04809017\n",
            " 0.05703193 0.05783344 0.04566061 0.04889167 0.04553538 0.05705698\n",
            " 0.05838447 0.05983719 0.06675016 0.06654978 0.06993112 0.07288666\n",
            " 0.07105823 0.07120852 0.07772073 0.08583594 0.08939261 0.08771446\n",
            " 0.09297433 0.09790858 0.08523837 0.08766605 0.08928303 0.09031039\n",
            " 0.09097655 0.09144139 0.09179778 0.0920932  0.09234996 0.0925786\n",
            " 0.0927851  0.09297402 0.09314958 0.09331578 0.09347615 0.09363355\n",
            " 0.09379013 0.09394726 0.0941057  0.09426562]\n",
            "20 day output [[0.09442684]]\n",
            "21 day input [0.09908579 0.09665623 0.08328115 0.0841077  0.08050094 0.07889793\n",
            " 0.09054477 0.07899812 0.08909205 0.09244834 0.09272386 0.09154665\n",
            " 0.10126487 0.10672511 0.11396368 0.10647464 0.09507827 0.12247965\n",
            " 0.11646838 0.10973075 0.09565435 0.08025047 0.07899812 0.08035066\n",
            " 0.08180338 0.07020664 0.10026299 0.10735128 0.10379461 0.10820288\n",
            " 0.10507201 0.10990607 0.11133375 0.10311835 0.10855354 0.11078272\n",
            " 0.10336882 0.09362555 0.08598622 0.10316844 0.10386976 0.10261741\n",
            " 0.09966187 0.0903444  0.08541014 0.08969317 0.08846587 0.09430182\n",
            " 0.09675642 0.0910958  0.07428929 0.06930495 0.0639449  0.06376957\n",
            " 0.07165936 0.06359424 0.0626675  0.05808391 0.04809017 0.05703193\n",
            " 0.05783344 0.04566061 0.04889167 0.04553538 0.05705698 0.05838447\n",
            " 0.05983719 0.06675016 0.06654978 0.06993112 0.07288666 0.07105823\n",
            " 0.07120852 0.07772073 0.08583594 0.08939261 0.08771446 0.09297433\n",
            " 0.09790858 0.08523837 0.08766605 0.08928303 0.09031039 0.09097655\n",
            " 0.09144139 0.09179778 0.0920932  0.09234996 0.0925786  0.0927851\n",
            " 0.09297402 0.09314958 0.09331578 0.09347615 0.09363355 0.09379013\n",
            " 0.09394726 0.0941057  0.09426562 0.09442684]\n",
            "21 day output [[0.09458889]]\n",
            "22 day input [0.09665623 0.08328115 0.0841077  0.08050094 0.07889793 0.09054477\n",
            " 0.07899812 0.08909205 0.09244834 0.09272386 0.09154665 0.10126487\n",
            " 0.10672511 0.11396368 0.10647464 0.09507827 0.12247965 0.11646838\n",
            " 0.10973075 0.09565435 0.08025047 0.07899812 0.08035066 0.08180338\n",
            " 0.07020664 0.10026299 0.10735128 0.10379461 0.10820288 0.10507201\n",
            " 0.10990607 0.11133375 0.10311835 0.10855354 0.11078272 0.10336882\n",
            " 0.09362555 0.08598622 0.10316844 0.10386976 0.10261741 0.09966187\n",
            " 0.0903444  0.08541014 0.08969317 0.08846587 0.09430182 0.09675642\n",
            " 0.0910958  0.07428929 0.06930495 0.0639449  0.06376957 0.07165936\n",
            " 0.06359424 0.0626675  0.05808391 0.04809017 0.05703193 0.05783344\n",
            " 0.04566061 0.04889167 0.04553538 0.05705698 0.05838447 0.05983719\n",
            " 0.06675016 0.06654978 0.06993112 0.07288666 0.07105823 0.07120852\n",
            " 0.07772073 0.08583594 0.08939261 0.08771446 0.09297433 0.09790858\n",
            " 0.08523837 0.08766605 0.08928303 0.09031039 0.09097655 0.09144139\n",
            " 0.09179778 0.0920932  0.09234996 0.0925786  0.0927851  0.09297402\n",
            " 0.09314958 0.09331578 0.09347615 0.09363355 0.09379013 0.09394726\n",
            " 0.0941057  0.09426562 0.09442684 0.09458889]\n",
            "22 day output [[0.09475119]]\n",
            "23 day input [0.08328115 0.0841077  0.08050094 0.07889793 0.09054477 0.07899812\n",
            " 0.08909205 0.09244834 0.09272386 0.09154665 0.10126487 0.10672511\n",
            " 0.11396368 0.10647464 0.09507827 0.12247965 0.11646838 0.10973075\n",
            " 0.09565435 0.08025047 0.07899812 0.08035066 0.08180338 0.07020664\n",
            " 0.10026299 0.10735128 0.10379461 0.10820288 0.10507201 0.10990607\n",
            " 0.11133375 0.10311835 0.10855354 0.11078272 0.10336882 0.09362555\n",
            " 0.08598622 0.10316844 0.10386976 0.10261741 0.09966187 0.0903444\n",
            " 0.08541014 0.08969317 0.08846587 0.09430182 0.09675642 0.0910958\n",
            " 0.07428929 0.06930495 0.0639449  0.06376957 0.07165936 0.06359424\n",
            " 0.0626675  0.05808391 0.04809017 0.05703193 0.05783344 0.04566061\n",
            " 0.04889167 0.04553538 0.05705698 0.05838447 0.05983719 0.06675016\n",
            " 0.06654978 0.06993112 0.07288666 0.07105823 0.07120852 0.07772073\n",
            " 0.08583594 0.08939261 0.08771446 0.09297433 0.09790858 0.08523837\n",
            " 0.08766605 0.08928303 0.09031039 0.09097655 0.09144139 0.09179778\n",
            " 0.0920932  0.09234996 0.0925786  0.0927851  0.09297402 0.09314958\n",
            " 0.09331578 0.09347615 0.09363355 0.09379013 0.09394726 0.0941057\n",
            " 0.09426562 0.09442684 0.09458889 0.09475119]\n",
            "23 day output [[0.09491315]]\n",
            "24 day input [0.0841077  0.08050094 0.07889793 0.09054477 0.07899812 0.08909205\n",
            " 0.09244834 0.09272386 0.09154665 0.10126487 0.10672511 0.11396368\n",
            " 0.10647464 0.09507827 0.12247965 0.11646838 0.10973075 0.09565435\n",
            " 0.08025047 0.07899812 0.08035066 0.08180338 0.07020664 0.10026299\n",
            " 0.10735128 0.10379461 0.10820288 0.10507201 0.10990607 0.11133375\n",
            " 0.10311835 0.10855354 0.11078272 0.10336882 0.09362555 0.08598622\n",
            " 0.10316844 0.10386976 0.10261741 0.09966187 0.0903444  0.08541014\n",
            " 0.08969317 0.08846587 0.09430182 0.09675642 0.0910958  0.07428929\n",
            " 0.06930495 0.0639449  0.06376957 0.07165936 0.06359424 0.0626675\n",
            " 0.05808391 0.04809017 0.05703193 0.05783344 0.04566061 0.04889167\n",
            " 0.04553538 0.05705698 0.05838447 0.05983719 0.06675016 0.06654978\n",
            " 0.06993112 0.07288666 0.07105823 0.07120852 0.07772073 0.08583594\n",
            " 0.08939261 0.08771446 0.09297433 0.09790858 0.08523837 0.08766605\n",
            " 0.08928303 0.09031039 0.09097655 0.09144139 0.09179778 0.0920932\n",
            " 0.09234996 0.0925786  0.0927851  0.09297402 0.09314958 0.09331578\n",
            " 0.09347615 0.09363355 0.09379013 0.09394726 0.0941057  0.09426562\n",
            " 0.09442684 0.09458889 0.09475119 0.09491315]\n",
            "24 day output [[0.09507412]]\n",
            "25 day input [0.08050094 0.07889793 0.09054477 0.07899812 0.08909205 0.09244834\n",
            " 0.09272386 0.09154665 0.10126487 0.10672511 0.11396368 0.10647464\n",
            " 0.09507827 0.12247965 0.11646838 0.10973075 0.09565435 0.08025047\n",
            " 0.07899812 0.08035066 0.08180338 0.07020664 0.10026299 0.10735128\n",
            " 0.10379461 0.10820288 0.10507201 0.10990607 0.11133375 0.10311835\n",
            " 0.10855354 0.11078272 0.10336882 0.09362555 0.08598622 0.10316844\n",
            " 0.10386976 0.10261741 0.09966187 0.0903444  0.08541014 0.08969317\n",
            " 0.08846587 0.09430182 0.09675642 0.0910958  0.07428929 0.06930495\n",
            " 0.0639449  0.06376957 0.07165936 0.06359424 0.0626675  0.05808391\n",
            " 0.04809017 0.05703193 0.05783344 0.04566061 0.04889167 0.04553538\n",
            " 0.05705698 0.05838447 0.05983719 0.06675016 0.06654978 0.06993112\n",
            " 0.07288666 0.07105823 0.07120852 0.07772073 0.08583594 0.08939261\n",
            " 0.08771446 0.09297433 0.09790858 0.08523837 0.08766605 0.08928303\n",
            " 0.09031039 0.09097655 0.09144139 0.09179778 0.0920932  0.09234996\n",
            " 0.0925786  0.0927851  0.09297402 0.09314958 0.09331578 0.09347615\n",
            " 0.09363355 0.09379013 0.09394726 0.0941057  0.09426562 0.09442684\n",
            " 0.09458889 0.09475119 0.09491315 0.09507412]\n",
            "25 day output [[0.09523366]]\n",
            "26 day input [0.07889793 0.09054477 0.07899812 0.08909205 0.09244834 0.09272386\n",
            " 0.09154665 0.10126487 0.10672511 0.11396368 0.10647464 0.09507827\n",
            " 0.12247965 0.11646838 0.10973075 0.09565435 0.08025047 0.07899812\n",
            " 0.08035066 0.08180338 0.07020664 0.10026299 0.10735128 0.10379461\n",
            " 0.10820288 0.10507201 0.10990607 0.11133375 0.10311835 0.10855354\n",
            " 0.11078272 0.10336882 0.09362555 0.08598622 0.10316844 0.10386976\n",
            " 0.10261741 0.09966187 0.0903444  0.08541014 0.08969317 0.08846587\n",
            " 0.09430182 0.09675642 0.0910958  0.07428929 0.06930495 0.0639449\n",
            " 0.06376957 0.07165936 0.06359424 0.0626675  0.05808391 0.04809017\n",
            " 0.05703193 0.05783344 0.04566061 0.04889167 0.04553538 0.05705698\n",
            " 0.05838447 0.05983719 0.06675016 0.06654978 0.06993112 0.07288666\n",
            " 0.07105823 0.07120852 0.07772073 0.08583594 0.08939261 0.08771446\n",
            " 0.09297433 0.09790858 0.08523837 0.08766605 0.08928303 0.09031039\n",
            " 0.09097655 0.09144139 0.09179778 0.0920932  0.09234996 0.0925786\n",
            " 0.0927851  0.09297402 0.09314958 0.09331578 0.09347615 0.09363355\n",
            " 0.09379013 0.09394726 0.0941057  0.09426562 0.09442684 0.09458889\n",
            " 0.09475119 0.09491315 0.09507412 0.09523366]\n",
            "26 day output [[0.09539134]]\n",
            "27 day input [0.09054477 0.07899812 0.08909205 0.09244834 0.09272386 0.09154665\n",
            " 0.10126487 0.10672511 0.11396368 0.10647464 0.09507827 0.12247965\n",
            " 0.11646838 0.10973075 0.09565435 0.08025047 0.07899812 0.08035066\n",
            " 0.08180338 0.07020664 0.10026299 0.10735128 0.10379461 0.10820288\n",
            " 0.10507201 0.10990607 0.11133375 0.10311835 0.10855354 0.11078272\n",
            " 0.10336882 0.09362555 0.08598622 0.10316844 0.10386976 0.10261741\n",
            " 0.09966187 0.0903444  0.08541014 0.08969317 0.08846587 0.09430182\n",
            " 0.09675642 0.0910958  0.07428929 0.06930495 0.0639449  0.06376957\n",
            " 0.07165936 0.06359424 0.0626675  0.05808391 0.04809017 0.05703193\n",
            " 0.05783344 0.04566061 0.04889167 0.04553538 0.05705698 0.05838447\n",
            " 0.05983719 0.06675016 0.06654978 0.06993112 0.07288666 0.07105823\n",
            " 0.07120852 0.07772073 0.08583594 0.08939261 0.08771446 0.09297433\n",
            " 0.09790858 0.08523837 0.08766605 0.08928303 0.09031039 0.09097655\n",
            " 0.09144139 0.09179778 0.0920932  0.09234996 0.0925786  0.0927851\n",
            " 0.09297402 0.09314958 0.09331578 0.09347615 0.09363355 0.09379013\n",
            " 0.09394726 0.0941057  0.09426562 0.09442684 0.09458889 0.09475119\n",
            " 0.09491315 0.09507412 0.09523366 0.09539134]\n",
            "27 day output [[0.09554686]]\n",
            "28 day input [0.07899812 0.08909205 0.09244834 0.09272386 0.09154665 0.10126487\n",
            " 0.10672511 0.11396368 0.10647464 0.09507827 0.12247965 0.11646838\n",
            " 0.10973075 0.09565435 0.08025047 0.07899812 0.08035066 0.08180338\n",
            " 0.07020664 0.10026299 0.10735128 0.10379461 0.10820288 0.10507201\n",
            " 0.10990607 0.11133375 0.10311835 0.10855354 0.11078272 0.10336882\n",
            " 0.09362555 0.08598622 0.10316844 0.10386976 0.10261741 0.09966187\n",
            " 0.0903444  0.08541014 0.08969317 0.08846587 0.09430182 0.09675642\n",
            " 0.0910958  0.07428929 0.06930495 0.0639449  0.06376957 0.07165936\n",
            " 0.06359424 0.0626675  0.05808391 0.04809017 0.05703193 0.05783344\n",
            " 0.04566061 0.04889167 0.04553538 0.05705698 0.05838447 0.05983719\n",
            " 0.06675016 0.06654978 0.06993112 0.07288666 0.07105823 0.07120852\n",
            " 0.07772073 0.08583594 0.08939261 0.08771446 0.09297433 0.09790858\n",
            " 0.08523837 0.08766605 0.08928303 0.09031039 0.09097655 0.09144139\n",
            " 0.09179778 0.0920932  0.09234996 0.0925786  0.0927851  0.09297402\n",
            " 0.09314958 0.09331578 0.09347615 0.09363355 0.09379013 0.09394726\n",
            " 0.0941057  0.09426562 0.09442684 0.09458889 0.09475119 0.09491315\n",
            " 0.09507412 0.09523366 0.09539134 0.09554686]\n",
            "28 day output [[0.0957001]]\n",
            "29 day input [0.08909205 0.09244834 0.09272386 0.09154665 0.10126487 0.10672511\n",
            " 0.11396368 0.10647464 0.09507827 0.12247965 0.11646838 0.10973075\n",
            " 0.09565435 0.08025047 0.07899812 0.08035066 0.08180338 0.07020664\n",
            " 0.10026299 0.10735128 0.10379461 0.10820288 0.10507201 0.10990607\n",
            " 0.11133375 0.10311835 0.10855354 0.11078272 0.10336882 0.09362555\n",
            " 0.08598622 0.10316844 0.10386976 0.10261741 0.09966187 0.0903444\n",
            " 0.08541014 0.08969317 0.08846587 0.09430182 0.09675642 0.0910958\n",
            " 0.07428929 0.06930495 0.0639449  0.06376957 0.07165936 0.06359424\n",
            " 0.0626675  0.05808391 0.04809017 0.05703193 0.05783344 0.04566061\n",
            " 0.04889167 0.04553538 0.05705698 0.05838447 0.05983719 0.06675016\n",
            " 0.06654978 0.06993112 0.07288666 0.07105823 0.07120852 0.07772073\n",
            " 0.08583594 0.08939261 0.08771446 0.09297433 0.09790858 0.08523837\n",
            " 0.08766605 0.08928303 0.09031039 0.09097655 0.09144139 0.09179778\n",
            " 0.0920932  0.09234996 0.0925786  0.0927851  0.09297402 0.09314958\n",
            " 0.09331578 0.09347615 0.09363355 0.09379013 0.09394726 0.0941057\n",
            " 0.09426562 0.09442684 0.09458889 0.09475119 0.09491315 0.09507412\n",
            " 0.09523366 0.09539134 0.09554686 0.0957001 ]\n",
            "29 day output [[0.09585094]]\n"
          ]
        }
      ],
      "source": [
        "#30 days prediction\n",
        "lst_output=[]\n",
        "n_steps=100\n",
        "i=0\n",
        "#loop runs for 30 iterations\n",
        "while(i<30):\n",
        "    \n",
        "    if(len(temp_input)>100):\n",
        "        #print(temp_input)\n",
        "        x_input=np.array(temp_input[1:])\n",
        "        print(\"{} day input {}\".format(i,x_input))\n",
        "        x_input=x_input.reshape(1,-1)\n",
        "        x_input = x_input.reshape((1, n_steps, 1))\n",
        "        #print(x_input)\n",
        "        yhat = model.predict(x_input, verbose=0)\n",
        "        print(\"{} day output {}\".format(i,yhat))\n",
        "        temp_input.extend(yhat[0].tolist())\n",
        "        temp_input=temp_input[1:]\n",
        "        #print(temp_input)\n",
        "        lst_output.extend(yhat.tolist())\n",
        "        i=i+1\n",
        "    else:\n",
        "        x_input = x_input.reshape((1, n_steps,1))\n",
        "        yhat = model.predict(x_input, verbose=0)\n",
        "        print(yhat[0])\n",
        "        temp_input.extend(yhat[0].tolist())\n",
        "        print(len(temp_input))\n",
        "        lst_output.extend(yhat.tolist())\n",
        "        i=i+1\n",
        "    "
      ]
    },
    {
      "cell_type": "code",
      "execution_count": null,
      "metadata": {
        "id": "Dk9LXefzkdsu"
      },
      "outputs": [],
      "source": [
        "day_new=np.arange(1,101)\n",
        "day_pred=np.arange(101,131)"
      ]
    },
    {
      "cell_type": "code",
      "execution_count": null,
      "metadata": {
        "id": "EuZ2mZ8Hkhql"
      },
      "outputs": [],
      "source": [
        "import matplotlib.pyplot as plt"
      ]
    },
    {
      "cell_type": "code",
      "execution_count": null,
      "metadata": {
        "colab": {
          "base_uri": "https://localhost:8080/"
        },
        "id": "csB7ZDEXkj7e",
        "outputId": "9bf4a54b-2e55-4671-eb13-6d3f8e9c0de3"
      },
      "outputs": [
        {
          "output_type": "execute_result",
          "data": {
            "text/plain": [
              "1259"
            ]
          },
          "metadata": {},
          "execution_count": 333
        }
      ],
      "source": [
        "len(df1)#<-close column sz"
      ]
    },
    {
      "cell_type": "code",
      "execution_count": null,
      "metadata": {
        "id": "jJFsKKX0kmHP"
      },
      "outputs": [],
      "source": [
        "# plt.plot(day_new,scaler.inverse_transform(df1[1157:]))\n",
        "# plt.plot(day_pred,scaler.inverse_transform(lst_output))"
      ]
    },
    {
      "cell_type": "code",
      "execution_count": null,
      "metadata": {
        "id": "_PFf5KgSkpMs"
      },
      "outputs": [],
      "source": [
        "# df3=df1.tolist()\n",
        "# df3.extend(lst_output)#30 days op inc\n",
        "# plt.plot(df3[1200:])#->total 1258-1200 ->58+30(pred)=88"
      ]
    },
    {
      "cell_type": "code",
      "execution_count": null,
      "metadata": {
        "id": "C9iVoroykr-s"
      },
      "outputs": [],
      "source": [
        "# df3=scaler.inverse_transform(df3).tolist()"
      ]
    },
    {
      "cell_type": "code",
      "execution_count": null,
      "metadata": {
        "id": "jvRfRiVTkvHl"
      },
      "outputs": [],
      "source": [
        "# plt.plot(df3)"
      ]
    },
    {
      "cell_type": "code",
      "execution_count": null,
      "metadata": {
        "id": "-NLmeeY-kxHq"
      },
      "outputs": [],
      "source": [
        "# final_data = scaler.inverse_transform(test_data)\n",
        "#print(final_data)"
      ]
    },
    {
      "cell_type": "code",
      "execution_count": null,
      "metadata": {
        "colab": {
          "base_uri": "https://localhost:8080/"
        },
        "id": "h3wm7ZRMkzuE",
        "outputId": "70add0eb-d6a8-4d11-84cf-31b73d98b3ca"
      },
      "outputs": [
        {
          "output_type": "stream",
          "name": "stdout",
          "text": [
            "Enter the no. of duration to predict : 20\n",
            "Predicted values are :  [[140.63014221191406], [383.8900451660156], [775.8746948242188], [1075.0457763671875], [1206.38720703125], [1225.5465087890625], [1193.41357421875], [1148.74658203125], [1113.3741455078125], [1095.7596435546875], [1095.435302734375], [1107.927978515625], [1127.96435546875], [1150.80029296875], [1172.6466064453125], [1190.897705078125], [1204.2620849609375], [1212.6265869140625], [1216.6370849609375], [1217.2362060546875]]\n"
          ]
        }
      ],
      "source": [
        "#final model\n",
        "g_input=test_data[340:].reshape(1,-1)#340->440 inset g_ip form in array\n",
        "g_input.shape\n",
        "# print(g_input)\n",
        "\n",
        "final_input=list(g_input)\n",
        "final_input=final_input[0].tolist()\n",
        "# print(len(final_input))\n",
        "\n",
        "from numpy import array\n",
        "def predictor(duration,final_input,g_input):\n",
        "  lst_output=[]\n",
        "  n_steps=100\n",
        "  i=0\n",
        "  while(i<duration):\n",
        "      \n",
        "      if(len(final_input)>100):\n",
        "          #print(temp_input)\n",
        "          g_input=np.array(final_input[1:])\n",
        "          # print(\"{} day input {}\".format(i,x_input))\n",
        "          g_input=g_input.reshape(1,-1)\n",
        "          g_input = g_input.reshape((1, n_steps, 1))\n",
        "          #print(x_input)\n",
        "          yhat = model.predict(g_input, verbose=0)\n",
        "          # print(\"{} day output {}\".format(i,yhat))\n",
        "          yhat=scaler.inverse_transform(yhat)#main values convert actual value\n",
        "          yhat = yhat.reshape(1,-1)\n",
        "          final_input.extend(yhat[0].tolist())\n",
        "          final_input=final_input[1:]\n",
        "          #print(temp_input)\n",
        "          lst_output.extend(yhat.tolist())\n",
        "          i=i+1\n",
        "      else:\n",
        "          g_input = g_input.reshape((1, n_steps,1))\n",
        "          yhat = model.predict(g_input, verbose=0)\n",
        "          # print(yhat[0])\n",
        "          yhat=scaler.inverse_transform(yhat)\n",
        "          yhat = yhat.reshape(1,-1)\n",
        "          final_input.extend(yhat[0].tolist())\n",
        "          # print(len(final_input))\n",
        "          lst_output.extend(yhat.tolist())\n",
        "          i=i+1\n",
        "  return lst_output\n",
        "\n",
        "#predicting values\n",
        "\n",
        "duration =int(input(\"Enter the no. of duration to predict : \"))\n",
        "#call\n",
        "prediction = predictor(duration,final_input,g_input)#test data size 440<- last 440 values (test data)\n",
        "print(\"Predicted values are : \",prediction)"
      ]
    },
    {
      "cell_type": "code",
      "execution_count": null,
      "metadata": {
        "id": "AJnmMictk3q6"
      },
      "outputs": [],
      "source": [
        "# import pickle \n",
        "# pickle.out = open(\"Model.pkl\",'wb')\n",
        "# pickle.dump(model,pickle.out)\n",
        "# pickle.out.close()"
      ]
    },
    {
      "cell_type": "code",
      "execution_count": null,
      "metadata": {
        "id": "B0jG8BpFlCNS"
      },
      "outputs": [],
      "source": [
        "# pickle.dump(test_data,open('test_data.pkl','wb'))"
      ]
    },
    {
      "cell_type": "code",
      "execution_count": null,
      "metadata": {
        "colab": {
          "base_uri": "https://localhost:8080/",
          "height": 265
        },
        "id": "6HlkP6N_lOpW",
        "outputId": "c9a20735-f5cf-477f-9cda-a16c4c683919"
      },
      "outputs": [
        {
          "output_type": "display_data",
          "data": {
            "text/plain": [
              "<Figure size 432x288 with 1 Axes>"
            ],
            "image/png": "[encoded data removed]"
          },
          "metadata": {
            "needs_background": "light"
          }
        }
      ],
      "source": [
        "plt.plot(prediction)\n",
        "plt.show()"
      ]
    },
    {
      "cell_type": "code",
      "execution_count": null,
      "metadata": {
        "id": "1h3E8jUKk5vF"
      },
      "outputs": [],
      "source": [
        "#Revert"
      ]
    }
  ],
  "metadata": {
    "colab": {
      "provenance": [],
      "toc_visible": true,
      "authorship_tag": "ABX9TyOixO+oCMR+lH6g/TgA4AUN",
      "include_colab_link": true
    },
    "kernelspec": {
      "display_name": "Python 3",
      "name": "python3"
    },
    "language_info": {
      "name": "python"
    }
  },
  "nbformat": 4,
  "nbformat_minor": 0
}